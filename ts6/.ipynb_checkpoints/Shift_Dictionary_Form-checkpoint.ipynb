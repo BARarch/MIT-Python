{
 "cells": [
  {
   "cell_type": "code",
   "execution_count": 28,
   "metadata": {},
   "outputs": [],
   "source": [
    "import string \n",
    "\n",
    "shift = 3\n",
    "\n",
    "keys_lo = list(string.ascii_lowercase)\n",
    "values_lo= list(string.ascii_lowercase[shift:] + string.ascii_lowercase[:shift])\n",
    "d_lo= dict(zip(keys_lo, values_lo))\n",
    "\n",
    "keys_up = list(string.ascii_uppercase)\n",
    "values_up= list(string.ascii_uppercase[shift:] + string.ascii_uppercase[:shift])\n",
    "d_up= dict(zip(keys_up, values_up))\n",
    "\n",
    "d_tot=dict(list(d_lo.items())+list(d_up.items()))"
   ]
  },
  {
   "cell_type": "code",
   "execution_count": 29,
   "metadata": {},
   "outputs": [
    {
     "data": {
      "text/plain": [
       "{'a': 'd',\n",
       " 'b': 'e',\n",
       " 'c': 'f',\n",
       " 'd': 'g',\n",
       " 'e': 'h',\n",
       " 'f': 'i',\n",
       " 'g': 'j',\n",
       " 'h': 'k',\n",
       " 'i': 'l',\n",
       " 'j': 'm',\n",
       " 'k': 'n',\n",
       " 'l': 'o',\n",
       " 'm': 'p',\n",
       " 'n': 'q',\n",
       " 'o': 'r',\n",
       " 'p': 's',\n",
       " 'q': 't',\n",
       " 'r': 'u',\n",
       " 's': 'v',\n",
       " 't': 'w',\n",
       " 'u': 'x',\n",
       " 'v': 'y',\n",
       " 'w': 'z',\n",
       " 'x': 'a',\n",
       " 'y': 'b',\n",
       " 'z': 'c'}"
      ]
     },
     "execution_count": 29,
     "metadata": {},
     "output_type": "execute_result"
    }
   ],
   "source": [
    "d_lo"
   ]
  },
  {
   "cell_type": "code",
   "execution_count": 30,
   "metadata": {},
   "outputs": [
    {
     "data": {
      "text/plain": [
       "{'A': 'D',\n",
       " 'B': 'E',\n",
       " 'C': 'F',\n",
       " 'D': 'G',\n",
       " 'E': 'H',\n",
       " 'F': 'I',\n",
       " 'G': 'J',\n",
       " 'H': 'K',\n",
       " 'I': 'L',\n",
       " 'J': 'M',\n",
       " 'K': 'N',\n",
       " 'L': 'O',\n",
       " 'M': 'P',\n",
       " 'N': 'Q',\n",
       " 'O': 'R',\n",
       " 'P': 'S',\n",
       " 'Q': 'T',\n",
       " 'R': 'U',\n",
       " 'S': 'V',\n",
       " 'T': 'W',\n",
       " 'U': 'X',\n",
       " 'V': 'Y',\n",
       " 'W': 'Z',\n",
       " 'X': 'A',\n",
       " 'Y': 'B',\n",
       " 'Z': 'C'}"
      ]
     },
     "execution_count": 30,
     "metadata": {},
     "output_type": "execute_result"
    }
   ],
   "source": [
    "d_up"
   ]
  },
  {
   "cell_type": "code",
   "execution_count": 31,
   "metadata": {},
   "outputs": [
    {
     "data": {
      "text/plain": [
       "{'A': 'D',\n",
       " 'B': 'E',\n",
       " 'C': 'F',\n",
       " 'D': 'G',\n",
       " 'E': 'H',\n",
       " 'F': 'I',\n",
       " 'G': 'J',\n",
       " 'H': 'K',\n",
       " 'I': 'L',\n",
       " 'J': 'M',\n",
       " 'K': 'N',\n",
       " 'L': 'O',\n",
       " 'M': 'P',\n",
       " 'N': 'Q',\n",
       " 'O': 'R',\n",
       " 'P': 'S',\n",
       " 'Q': 'T',\n",
       " 'R': 'U',\n",
       " 'S': 'V',\n",
       " 'T': 'W',\n",
       " 'U': 'X',\n",
       " 'V': 'Y',\n",
       " 'W': 'Z',\n",
       " 'X': 'A',\n",
       " 'Y': 'B',\n",
       " 'Z': 'C',\n",
       " 'a': 'd',\n",
       " 'b': 'e',\n",
       " 'c': 'f',\n",
       " 'd': 'g',\n",
       " 'e': 'h',\n",
       " 'f': 'i',\n",
       " 'g': 'j',\n",
       " 'h': 'k',\n",
       " 'i': 'l',\n",
       " 'j': 'm',\n",
       " 'k': 'n',\n",
       " 'l': 'o',\n",
       " 'm': 'p',\n",
       " 'n': 'q',\n",
       " 'o': 'r',\n",
       " 'p': 's',\n",
       " 'q': 't',\n",
       " 'r': 'u',\n",
       " 's': 'v',\n",
       " 't': 'w',\n",
       " 'u': 'x',\n",
       " 'v': 'y',\n",
       " 'w': 'z',\n",
       " 'x': 'a',\n",
       " 'y': 'b',\n",
       " 'z': 'c'}"
      ]
     },
     "execution_count": 31,
     "metadata": {},
     "output_type": "execute_result"
    }
   ],
   "source": [
    "d_tot"
   ]
  },
  {
   "cell_type": "code",
   "execution_count": 32,
   "metadata": {},
   "outputs": [
    {
     "data": {
      "text/plain": [
       "dict_items([('a', 'd'), ('b', 'e'), ('c', 'f'), ('d', 'g'), ('e', 'h'), ('f', 'i'), ('g', 'j'), ('h', 'k'), ('i', 'l'), ('j', 'm'), ('k', 'n'), ('l', 'o'), ('m', 'p'), ('n', 'q'), ('o', 'r'), ('p', 's'), ('q', 't'), ('r', 'u'), ('s', 'v'), ('t', 'w'), ('u', 'x'), ('v', 'y'), ('w', 'z'), ('x', 'a'), ('y', 'b'), ('z', 'c')])"
      ]
     },
     "execution_count": 32,
     "metadata": {},
     "output_type": "execute_result"
    }
   ],
   "source": [
    "d_lo.items()"
   ]
  },
  {
   "cell_type": "code",
   "execution_count": 34,
   "metadata": {},
   "outputs": [
    {
     "data": {
      "text/plain": [
       "[('a', 'd'),\n",
       " ('b', 'e'),\n",
       " ('c', 'f'),\n",
       " ('d', 'g'),\n",
       " ('e', 'h'),\n",
       " ('f', 'i'),\n",
       " ('g', 'j'),\n",
       " ('h', 'k'),\n",
       " ('i', 'l'),\n",
       " ('j', 'm'),\n",
       " ('k', 'n'),\n",
       " ('l', 'o'),\n",
       " ('m', 'p'),\n",
       " ('n', 'q'),\n",
       " ('o', 'r'),\n",
       " ('p', 's'),\n",
       " ('q', 't'),\n",
       " ('r', 'u'),\n",
       " ('s', 'v'),\n",
       " ('t', 'w'),\n",
       " ('u', 'x'),\n",
       " ('v', 'y'),\n",
       " ('w', 'z'),\n",
       " ('x', 'a'),\n",
       " ('y', 'b'),\n",
       " ('z', 'c')]"
      ]
     },
     "execution_count": 34,
     "metadata": {},
     "output_type": "execute_result"
    }
   ],
   "source": [
    "list(d_lo.items())"
   ]
  },
  {
   "cell_type": "code",
   "execution_count": 39,
   "metadata": {},
   "outputs": [],
   "source": [
    "def shift_dict(k):\n",
    "    keys_lo = list(string.ascii_lowercase)\n",
    "    values_lo= list(string.ascii_lowercase[k:] + string.ascii_lowercase[:k])\n",
    "    d_lo= dict(zip(keys_lo, values_lo))\n",
    "\n",
    "    keys_up = list(string.ascii_uppercase)\n",
    "    values_up= list(string.ascii_uppercase[k:] + string.ascii_uppercase[:k])\n",
    "    d_up= dict(zip(keys_up, values_up))\n",
    "    \n",
    "    return dict(list(d_lo.items())+list(d_up.items()))"
   ]
  },
  {
   "cell_type": "code",
   "execution_count": 42,
   "metadata": {
    "collapsed": true
   },
   "outputs": [],
   "source": [
    "s = shift_dict(2)"
   ]
  },
  {
   "cell_type": "code",
   "execution_count": 43,
   "metadata": {},
   "outputs": [
    {
     "data": {
      "text/plain": [
       "{'A': 'C',\n",
       " 'B': 'D',\n",
       " 'C': 'E',\n",
       " 'D': 'F',\n",
       " 'E': 'G',\n",
       " 'F': 'H',\n",
       " 'G': 'I',\n",
       " 'H': 'J',\n",
       " 'I': 'K',\n",
       " 'J': 'L',\n",
       " 'K': 'M',\n",
       " 'L': 'N',\n",
       " 'M': 'O',\n",
       " 'N': 'P',\n",
       " 'O': 'Q',\n",
       " 'P': 'R',\n",
       " 'Q': 'S',\n",
       " 'R': 'T',\n",
       " 'S': 'U',\n",
       " 'T': 'V',\n",
       " 'U': 'W',\n",
       " 'V': 'X',\n",
       " 'W': 'Y',\n",
       " 'X': 'Z',\n",
       " 'Y': 'A',\n",
       " 'Z': 'B',\n",
       " 'a': 'c',\n",
       " 'b': 'd',\n",
       " 'c': 'e',\n",
       " 'd': 'f',\n",
       " 'e': 'g',\n",
       " 'f': 'h',\n",
       " 'g': 'i',\n",
       " 'h': 'j',\n",
       " 'i': 'k',\n",
       " 'j': 'l',\n",
       " 'k': 'm',\n",
       " 'l': 'n',\n",
       " 'm': 'o',\n",
       " 'n': 'p',\n",
       " 'o': 'q',\n",
       " 'p': 'r',\n",
       " 'q': 's',\n",
       " 'r': 't',\n",
       " 's': 'u',\n",
       " 't': 'v',\n",
       " 'u': 'w',\n",
       " 'v': 'x',\n",
       " 'w': 'y',\n",
       " 'x': 'z',\n",
       " 'y': 'a',\n",
       " 'z': 'b'}"
      ]
     },
     "execution_count": 43,
     "metadata": {},
     "output_type": "execute_result"
    }
   ],
   "source": [
    "s"
   ]
  },
  {
   "cell_type": "code",
   "execution_count": null,
   "metadata": {
    "collapsed": true
   },
   "outputs": [],
   "source": []
  }
 ],
 "metadata": {
  "kernelspec": {
   "display_name": "Python 3",
   "language": "python",
   "name": "python3"
  },
  "language_info": {
   "codemirror_mode": {
    "name": "ipython",
    "version": 3
   },
   "file_extension": ".py",
   "mimetype": "text/x-python",
   "name": "python",
   "nbconvert_exporter": "python",
   "pygments_lexer": "ipython3",
   "version": "3.6.1"
  }
 },
 "nbformat": 4,
 "nbformat_minor": 2
}
