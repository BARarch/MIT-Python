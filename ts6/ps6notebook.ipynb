{
 "cells": [
  {
   "cell_type": "code",
   "execution_count": 32,
   "metadata": {},
   "outputs": [
    {
     "name": "stdout",
     "output_type": "stream",
     "text": [
      "Loading word list from file...\n",
      "   55901 words loaded.\n",
      "Expected Output: jgnnq\n",
      "Actual Output: jgnnq\n",
      "Expected Output: (24, 'hello')\n",
      "Actual Output: None\n"
     ]
    }
   ],
   "source": [
    "%run ps6.py"
   ]
  },
  {
   "cell_type": "code",
   "execution_count": 2,
   "metadata": {
    "collapsed": true
   },
   "outputs": [],
   "source": [
    "a = {\"a\":5, \"b\":23, \"c\":37}"
   ]
  },
  {
   "cell_type": "code",
   "execution_count": 22,
   "metadata": {
    "collapsed": true
   },
   "outputs": [],
   "source": [
    "f = ''"
   ]
  },
  {
   "cell_type": "code",
   "execution_count": 25,
   "metadata": {
    "collapsed": true
   },
   "outputs": [],
   "source": [
    "f += ' s today'"
   ]
  },
  {
   "cell_type": "code",
   "execution_count": 26,
   "metadata": {},
   "outputs": [
    {
     "data": {
      "text/plain": [
       "'s s today'"
      ]
     },
     "execution_count": 26,
     "metadata": {},
     "output_type": "execute_result"
    }
   ],
   "source": [
    "f\n"
   ]
  },
  {
   "cell_type": "code",
   "execution_count": 3,
   "metadata": {},
   "outputs": [
    {
     "data": {
      "text/plain": [
       "dict_keys(['a', 'b', 'c'])"
      ]
     },
     "execution_count": 3,
     "metadata": {},
     "output_type": "execute_result"
    }
   ],
   "source": [
    "a.keys()"
   ]
  },
  {
   "cell_type": "code",
   "execution_count": 4,
   "metadata": {},
   "outputs": [
    {
     "data": {
      "text/plain": [
       "dict_values([5, 23, 37])"
      ]
     },
     "execution_count": 4,
     "metadata": {},
     "output_type": "execute_result"
    }
   ],
   "source": [
    "a.values()"
   ]
  },
  {
   "cell_type": "code",
   "execution_count": 6,
   "metadata": {},
   "outputs": [
    {
     "data": {
      "text/plain": [
       "'abcdefghijklmnopqrstuvwxyz'"
      ]
     },
     "execution_count": 6,
     "metadata": {},
     "output_type": "execute_result"
    }
   ],
   "source": [
    "string.ascii_lowercase"
   ]
  },
  {
   "cell_type": "code",
   "execution_count": 7,
   "metadata": {},
   "outputs": [
    {
     "data": {
      "text/plain": [
       "'ABCDEFGHIJKLMNOPQRSTUVWXYZ'"
      ]
     },
     "execution_count": 7,
     "metadata": {},
     "output_type": "execute_result"
    }
   ],
   "source": [
    "string.ascii_uppercase"
   ]
  },
  {
   "cell_type": "code",
   "execution_count": 10,
   "metadata": {},
   "outputs": [
    {
     "data": {
      "text/plain": [
       "'f'"
      ]
     },
     "execution_count": 10,
     "metadata": {},
     "output_type": "execute_result"
    }
   ],
   "source": [
    "string.ascii_lowercase[5]"
   ]
  },
  {
   "cell_type": "code",
   "execution_count": 13,
   "metadata": {},
   "outputs": [
    {
     "data": {
      "text/plain": [
       "25"
      ]
     },
     "execution_count": 13,
     "metadata": {},
     "output_type": "execute_result"
    }
   ],
   "source": [
    "string.ascii_lowercase.index('z')"
   ]
  },
  {
   "cell_type": "code",
   "execution_count": 12,
   "metadata": {},
   "outputs": [
    {
     "data": {
      "text/plain": [
       "5"
      ]
     },
     "execution_count": 12,
     "metadata": {},
     "output_type": "execute_result"
    }
   ],
   "source": [
    "string.ascii_lowercase.find('f')"
   ]
  },
  {
   "cell_type": "code",
   "execution_count": 17,
   "metadata": {
    "collapsed": true
   },
   "outputs": [],
   "source": [
    "def shift_dict(k):\n",
    "    dict = {}\n",
    "    for char in string.ascii_lowercase:\n",
    "        dict[char] = string.ascii_lowercase[(string.ascii_lowercase.index(char) + k) % 26]\n",
    "    for char in string.ascii_uppercase:\n",
    "        dict[char] = string.ascii_uppercase[(string.ascii_uppercase.index(char) + k) % 26]\n",
    "    return dict"
   ]
  },
  {
   "cell_type": "code",
   "execution_count": 19,
   "metadata": {},
   "outputs": [
    {
     "data": {
      "text/plain": [
       "{'A': 'M',\n",
       " 'B': 'N',\n",
       " 'C': 'O',\n",
       " 'D': 'P',\n",
       " 'E': 'Q',\n",
       " 'F': 'R',\n",
       " 'G': 'S',\n",
       " 'H': 'T',\n",
       " 'I': 'U',\n",
       " 'J': 'V',\n",
       " 'K': 'W',\n",
       " 'L': 'X',\n",
       " 'M': 'Y',\n",
       " 'N': 'Z',\n",
       " 'O': 'A',\n",
       " 'P': 'B',\n",
       " 'Q': 'C',\n",
       " 'R': 'D',\n",
       " 'S': 'E',\n",
       " 'T': 'F',\n",
       " 'U': 'G',\n",
       " 'V': 'H',\n",
       " 'W': 'I',\n",
       " 'X': 'J',\n",
       " 'Y': 'K',\n",
       " 'Z': 'L',\n",
       " 'a': 'm',\n",
       " 'b': 'n',\n",
       " 'c': 'o',\n",
       " 'd': 'p',\n",
       " 'e': 'q',\n",
       " 'f': 'r',\n",
       " 'g': 's',\n",
       " 'h': 't',\n",
       " 'i': 'u',\n",
       " 'j': 'v',\n",
       " 'k': 'w',\n",
       " 'l': 'x',\n",
       " 'm': 'y',\n",
       " 'n': 'z',\n",
       " 'o': 'a',\n",
       " 'p': 'b',\n",
       " 'q': 'c',\n",
       " 'r': 'd',\n",
       " 's': 'e',\n",
       " 't': 'f',\n",
       " 'u': 'g',\n",
       " 'v': 'h',\n",
       " 'w': 'i',\n",
       " 'x': 'j',\n",
       " 'y': 'k',\n",
       " 'z': 'l'}"
      ]
     },
     "execution_count": 19,
     "metadata": {},
     "output_type": "execute_result"
    }
   ],
   "source": [
    "shift_dict(12)"
   ]
  },
  {
   "cell_type": "code",
   "execution_count": 33,
   "metadata": {},
   "outputs": [
    {
     "name": "stdout",
     "output_type": "stream",
     "text": [
      "Loading word list from file...\n",
      "   55901 words loaded.\n"
     ]
    }
   ],
   "source": [
    "testMsg = Message('Hello. This is a message')"
   ]
  },
  {
   "cell_type": "code",
   "execution_count": 29,
   "metadata": {},
   "outputs": [
    {
     "data": {
      "text/plain": [
       "'Mjqqt. Ymnx nx f rjxxflj'"
      ]
     },
     "execution_count": 29,
     "metadata": {},
     "output_type": "execute_result"
    }
   ],
   "source": [
    "testMsg.apply_shift(5)"
   ]
  },
  {
   "cell_type": "code",
   "execution_count": 30,
   "metadata": {
    "collapsed": true
   },
   "outputs": [],
   "source": [
    "s = shift_dict(12).copy()"
   ]
  },
  {
   "cell_type": "code",
   "execution_count": 31,
   "metadata": {},
   "outputs": [
    {
     "data": {
      "text/plain": [
       "{'A': 'M',\n",
       " 'B': 'N',\n",
       " 'C': 'O',\n",
       " 'D': 'P',\n",
       " 'E': 'Q',\n",
       " 'F': 'R',\n",
       " 'G': 'S',\n",
       " 'H': 'T',\n",
       " 'I': 'U',\n",
       " 'J': 'V',\n",
       " 'K': 'W',\n",
       " 'L': 'X',\n",
       " 'M': 'Y',\n",
       " 'N': 'Z',\n",
       " 'O': 'A',\n",
       " 'P': 'B',\n",
       " 'Q': 'C',\n",
       " 'R': 'D',\n",
       " 'S': 'E',\n",
       " 'T': 'F',\n",
       " 'U': 'G',\n",
       " 'V': 'H',\n",
       " 'W': 'I',\n",
       " 'X': 'J',\n",
       " 'Y': 'K',\n",
       " 'Z': 'L',\n",
       " 'a': 'm',\n",
       " 'b': 'n',\n",
       " 'c': 'o',\n",
       " 'd': 'p',\n",
       " 'e': 'q',\n",
       " 'f': 'r',\n",
       " 'g': 's',\n",
       " 'h': 't',\n",
       " 'i': 'u',\n",
       " 'j': 'v',\n",
       " 'k': 'w',\n",
       " 'l': 'x',\n",
       " 'm': 'y',\n",
       " 'n': 'z',\n",
       " 'o': 'a',\n",
       " 'p': 'b',\n",
       " 'q': 'c',\n",
       " 'r': 'd',\n",
       " 's': 'e',\n",
       " 't': 'f',\n",
       " 'u': 'g',\n",
       " 'v': 'h',\n",
       " 'w': 'i',\n",
       " 'x': 'j',\n",
       " 'y': 'k',\n",
       " 'z': 'l'}"
      ]
     },
     "execution_count": 31,
     "metadata": {},
     "output_type": "execute_result"
    }
   ],
   "source": [
    "s"
   ]
  },
  {
   "cell_type": "code",
   "execution_count": 35,
   "metadata": {},
   "outputs": [
    {
     "name": "stdout",
     "output_type": "stream",
     "text": [
      "Loading word list from file...\n",
      "   55901 words loaded.\n"
     ]
    }
   ],
   "source": [
    "plain = PlaintextMessage(\"Hello there, this is a plaintext message\", 12)"
   ]
  },
  {
   "cell_type": "code",
   "execution_count": 36,
   "metadata": {},
   "outputs": [
    {
     "data": {
      "text/plain": [
       "12"
      ]
     },
     "execution_count": 36,
     "metadata": {},
     "output_type": "execute_result"
    }
   ],
   "source": [
    "plain.get_shift()"
   ]
  },
  {
   "cell_type": "code",
   "execution_count": 37,
   "metadata": {},
   "outputs": [
    {
     "data": {
      "text/plain": [
       "{'A': 'M',\n",
       " 'B': 'N',\n",
       " 'C': 'O',\n",
       " 'D': 'P',\n",
       " 'E': 'Q',\n",
       " 'F': 'R',\n",
       " 'G': 'S',\n",
       " 'H': 'T',\n",
       " 'I': 'U',\n",
       " 'J': 'V',\n",
       " 'K': 'W',\n",
       " 'L': 'X',\n",
       " 'M': 'Y',\n",
       " 'N': 'Z',\n",
       " 'O': 'A',\n",
       " 'P': 'B',\n",
       " 'Q': 'C',\n",
       " 'R': 'D',\n",
       " 'S': 'E',\n",
       " 'T': 'F',\n",
       " 'U': 'G',\n",
       " 'V': 'H',\n",
       " 'W': 'I',\n",
       " 'X': 'J',\n",
       " 'Y': 'K',\n",
       " 'Z': 'L',\n",
       " 'a': 'm',\n",
       " 'b': 'n',\n",
       " 'c': 'o',\n",
       " 'd': 'p',\n",
       " 'e': 'q',\n",
       " 'f': 'r',\n",
       " 'g': 's',\n",
       " 'h': 't',\n",
       " 'i': 'u',\n",
       " 'j': 'v',\n",
       " 'k': 'w',\n",
       " 'l': 'x',\n",
       " 'm': 'y',\n",
       " 'n': 'z',\n",
       " 'o': 'a',\n",
       " 'p': 'b',\n",
       " 'q': 'c',\n",
       " 'r': 'd',\n",
       " 's': 'e',\n",
       " 't': 'f',\n",
       " 'u': 'g',\n",
       " 'v': 'h',\n",
       " 'w': 'i',\n",
       " 'x': 'j',\n",
       " 'y': 'k',\n",
       " 'z': 'l'}"
      ]
     },
     "execution_count": 37,
     "metadata": {},
     "output_type": "execute_result"
    }
   ],
   "source": [
    "plain.get_encrypting_dict()"
   ]
  },
  {
   "cell_type": "code",
   "execution_count": 40,
   "metadata": {},
   "outputs": [
    {
     "data": {
      "text/plain": [
       "'Tqxxa ftqdq, ftue ue m bxmuzfqjf yqeemsq'"
      ]
     },
     "execution_count": 40,
     "metadata": {},
     "output_type": "execute_result"
    }
   ],
   "source": [
    "plain.get_message_text_encrypted()"
   ]
  },
  {
   "cell_type": "code",
   "execution_count": 41,
   "metadata": {
    "collapsed": true
   },
   "outputs": [],
   "source": [
    "plain.change_shift(2)"
   ]
  },
  {
   "cell_type": "code",
   "execution_count": 42,
   "metadata": {},
   "outputs": [
    {
     "data": {
      "text/plain": [
       "'Jgnnq vjgtg, vjku ku c rnckpvgzv oguucig'"
      ]
     },
     "execution_count": 42,
     "metadata": {},
     "output_type": "execute_result"
    }
   ],
   "source": [
    "plain.get_message_text_encrypted()"
   ]
  },
  {
   "cell_type": "code",
   "execution_count": 43,
   "metadata": {},
   "outputs": [
    {
     "data": {
      "text/plain": [
       "'Hello there, this is a plaintext message'"
      ]
     },
     "execution_count": 43,
     "metadata": {},
     "output_type": "execute_result"
    }
   ],
   "source": [
    "plain.get_message_text()"
   ]
  },
  {
   "cell_type": "code",
   "execution_count": 44,
   "metadata": {},
   "outputs": [
    {
     "data": {
      "text/plain": [
       "2"
      ]
     },
     "execution_count": 44,
     "metadata": {},
     "output_type": "execute_result"
    }
   ],
   "source": [
    "plain.get_shift()"
   ]
  },
  {
   "cell_type": "code",
   "execution_count": null,
   "metadata": {
    "collapsed": true
   },
   "outputs": [],
   "source": []
  }
 ],
 "metadata": {
  "kernelspec": {
   "display_name": "Python 3",
   "language": "python",
   "name": "python3"
  },
  "language_info": {
   "codemirror_mode": {
    "name": "ipython",
    "version": 3
   },
   "file_extension": ".py",
   "mimetype": "text/x-python",
   "name": "python",
   "nbconvert_exporter": "python",
   "pygments_lexer": "ipython3",
   "version": "3.6.1"
  }
 },
 "nbformat": 4,
 "nbformat_minor": 2
}
