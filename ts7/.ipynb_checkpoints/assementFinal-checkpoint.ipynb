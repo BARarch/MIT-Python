{
 "cells": [
  {
   "cell_type": "code",
   "execution_count": 23,
   "metadata": {
    "collapsed": true
   },
   "outputs": [],
   "source": [
    "def sum_digits(s):\n",
    "    \"\"\" assumes s a string\n",
    "        Returns an int that is the sum of all of the digits in s.\n",
    "          If there are no digits in s it raises a ValueError exception. \"\"\"\n",
    "    noDigits = True\n",
    "    sumDigits = 0\n",
    "    \n",
    "    for char in s:\n",
    "        try:\n",
    "            sumDigits += int(char)\n",
    "            \n",
    "        except ValueError:\n",
    "            continue\n",
    "        else:\n",
    "            noDigits = False\n",
    "            \n",
    "    if noDigits:\n",
    "        raise ValueError('No Digits')\n",
    "    return sumDigits"
   ]
  },
  {
   "cell_type": "code",
   "execution_count": 10,
   "metadata": {
    "collapsed": true
   },
   "outputs": [],
   "source": [
    "a = \"m\""
   ]
  },
  {
   "cell_type": "code",
   "execution_count": 11,
   "metadata": {},
   "outputs": [
    {
     "ename": "ValueError",
     "evalue": "invalid literal for int() with base 10: 'm'",
     "output_type": "error",
     "traceback": [
      "\u001b[1;31m---------------------------------------------------------------------------\u001b[0m",
      "\u001b[1;31mValueError\u001b[0m                                Traceback (most recent call last)",
      "\u001b[1;32m<ipython-input-11-bad075d74915>\u001b[0m in \u001b[0;36m<module>\u001b[1;34m()\u001b[0m\n\u001b[1;32m----> 1\u001b[1;33m \u001b[0mint\u001b[0m\u001b[1;33m(\u001b[0m\u001b[0ma\u001b[0m\u001b[1;33m[\u001b[0m\u001b[1;36m0\u001b[0m\u001b[1;33m]\u001b[0m\u001b[1;33m)\u001b[0m\u001b[1;33m\u001b[0m\u001b[0m\n\u001b[0m",
      "\u001b[1;31mValueError\u001b[0m: invalid literal for int() with base 10: 'm'"
     ]
    }
   ],
   "source": [
    "int(a[0])"
   ]
  },
  {
   "cell_type": "code",
   "execution_count": 28,
   "metadata": {},
   "outputs": [
    {
     "data": {
      "text/plain": [
       "12"
      ]
     },
     "execution_count": 28,
     "metadata": {},
     "output_type": "execute_result"
    }
   ],
   "source": [
    "sum_digits(\"48sd0s\")"
   ]
  },
  {
   "cell_type": "code",
   "execution_count": 35,
   "metadata": {},
   "outputs": [],
   "source": [
    "def max_val(t): \n",
    "    \"\"\" t, tuple or list\n",
    "        Each element of t is either an int, a tuple, or a list\n",
    "        No tuple or list is empty\n",
    "        Returns the maximum int in t or (recursively) in an element of t \"\"\" \n",
    "    maxVal = False\n",
    "    for val in t:\n",
    "        if type(val) != int:\n",
    "            val = max_val(val)\n",
    "        maxVal = val if val > maxVal else maxVal\n",
    "        \n",
    "    return maxVal"
   ]
  },
  {
   "cell_type": "code",
   "execution_count": null,
   "metadata": {
    "collapsed": true
   },
   "outputs": [],
   "source": []
  },
  {
   "cell_type": "code",
   "execution_count": 38,
   "metadata": {},
   "outputs": [
    {
     "data": {
      "text/plain": [
       "1181"
      ]
     },
     "execution_count": 38,
     "metadata": {},
     "output_type": "execute_result"
    }
   ],
   "source": [
    "max_val([100,3,(12,1181),8])"
   ]
  },
  {
   "cell_type": "code",
   "execution_count": 39,
   "metadata": {},
   "outputs": [
    {
     "data": {
      "text/plain": [
       "5"
      ]
     },
     "execution_count": 39,
     "metadata": {},
     "output_type": "execute_result"
    }
   ],
   "source": [
    "max_val((5, (1,2), [[1],[2]]))"
   ]
  },
  {
   "cell_type": "code",
   "execution_count": 40,
   "metadata": {},
   "outputs": [
    {
     "data": {
      "text/plain": [
       "9"
      ]
     },
     "execution_count": 40,
     "metadata": {},
     "output_type": "execute_result"
    }
   ],
   "source": [
    "max_val((5, (1,2), [[1],[9]]))"
   ]
  },
  {
   "cell_type": "code",
   "execution_count": 4,
   "metadata": {},
   "outputs": [
    {
     "name": "stdout",
     "output_type": "stream",
     "text": [
      "the type of t is int\n"
     ]
    }
   ],
   "source": [
    "if type(t) == int:\n",
    "    print(\"the type of t is int\")"
   ]
  },
  {
   "cell_type": "code",
   "execution_count": 17,
   "metadata": {},
   "outputs": [
    {
     "ename": "NameError",
     "evalue": "name 'nil' is not defined",
     "output_type": "error",
     "traceback": [
      "\u001b[1;31m---------------------------------------------------------------------------\u001b[0m",
      "\u001b[1;31mNameError\u001b[0m                                 Traceback (most recent call last)",
      "\u001b[1;32m<ipython-input-17-e0c2d2bf4f95>\u001b[0m in \u001b[0;36m<module>\u001b[1;34m()\u001b[0m\n\u001b[1;32m----> 1\u001b[1;33m \u001b[0mnan\u001b[0m \u001b[1;33m=\u001b[0m \u001b[0mnil\u001b[0m\u001b[1;33m\u001b[0m\u001b[0m\n\u001b[0m",
      "\u001b[1;31mNameError\u001b[0m: name 'nil' is not defined"
     ]
    }
   ],
   "source": [
    "nan = nil"
   ]
  },
  {
   "cell_type": "code",
   "execution_count": 12,
   "metadata": {},
   "outputs": [
    {
     "data": {
      "text/plain": [
       "True"
      ]
     },
     "execution_count": 12,
     "metadata": {},
     "output_type": "execute_result"
    }
   ],
   "source": [
    ".001 > nan"
   ]
  },
  {
   "cell_type": "code",
   "execution_count": 25,
   "metadata": {
    "collapsed": true
   },
   "outputs": [],
   "source": [
    "a = 5\n",
    "b = 7"
   ]
  },
  {
   "cell_type": "code",
   "execution_count": 26,
   "metadata": {},
   "outputs": [],
   "source": [
    "c = a if b < a else c"
   ]
  },
  {
   "cell_type": "code",
   "execution_count": 27,
   "metadata": {},
   "outputs": [
    {
     "data": {
      "text/plain": [
       "6"
      ]
     },
     "execution_count": 27,
     "metadata": {},
     "output_type": "execute_result"
    }
   ],
   "source": [
    "c"
   ]
  },
  {
   "cell_type": "code",
   "execution_count": 44,
   "metadata": {},
   "outputs": [],
   "source": [
    "a = ''.join(['a', 'bdb', 'c', 'd'])"
   ]
  },
  {
   "cell_type": "code",
   "execution_count": 45,
   "metadata": {},
   "outputs": [
    {
     "data": {
      "text/plain": [
       "'abdbcd'"
      ]
     },
     "execution_count": 45,
     "metadata": {},
     "output_type": "execute_result"
    }
   ],
   "source": [
    "a"
   ]
  },
  {
   "cell_type": "code",
   "execution_count": 46,
   "metadata": {
    "collapsed": true
   },
   "outputs": [],
   "source": [
    "def cipher(map_from, map_to, code):\n",
    "    \"\"\" map_from, map_to: strings where each contain \n",
    "                          N unique lowercase letters. \n",
    "        code: string (assume it only contains letters also in map_from)\n",
    "        Returns a tuple of (key_code, decoded).\n",
    "        key_code is a dictionary with N keys mapping str to str where \n",
    "        each key is a letter in map_from at index i and the corresponding \n",
    "        value is the letter in map_to at index i. \n",
    "        decoded is a string that contains the decoded version \n",
    "        of code using the key_code mapping. \"\"\"\n",
    "    key_code = {x: map_to[map_from.index(x)] for x in map_from}\n",
    "    return (key_code, ''.join([key_code[x] for x in code]))"
   ]
  },
  {
   "cell_type": "code",
   "execution_count": 47,
   "metadata": {},
   "outputs": [
    {
     "data": {
      "text/plain": [
       "({'a': 'd', 'b': 'c', 'c': 'b', 'd': 'a'}, 'adc')"
      ]
     },
     "execution_count": 47,
     "metadata": {},
     "output_type": "execute_result"
    }
   ],
   "source": [
    "cipher(\"abcd\", \"dcba\", \"dab\")"
   ]
  },
  {
   "cell_type": "code",
   "execution_count": 48,
   "metadata": {
    "collapsed": true
   },
   "outputs": [],
   "source": [
    "class Container(object):\n",
    "    \"\"\" Holds hashable objects. Objects may occur 0 or more times \"\"\"\n",
    "    def __init__(self):\n",
    "        \"\"\" Creates a new container with no objects in it. I.e., any object \n",
    "            occurs 0 times in self. \"\"\"\n",
    "        self.vals = {}\n",
    "    def insert(self, e):\n",
    "        \"\"\" assumes e is hashable\n",
    "            Increases the number times e occurs in self by 1. \"\"\"\n",
    "        try:\n",
    "            self.vals[e] += 1\n",
    "        except:\n",
    "            self.vals[e] = 1\n",
    "    def __str__(self):\n",
    "        s = \"\"\n",
    "        for i in sorted(self.vals.keys()):\n",
    "            if self.vals[i] != 0:\n",
    "                s += str(i)+\":\"+str(self.vals[i])+\"\\n\"\n",
    "        return s"
   ]
  },
  {
   "cell_type": "code",
   "execution_count": 59,
   "metadata": {},
   "outputs": [],
   "source": [
    "class Bag(Container):\n",
    "    def remove(self, e):\n",
    "        \"\"\" assumes e is hashable\n",
    "            If e occurs in self, reduces the number of \n",
    "            times it occurs in self by 1. Otherwise does nothing. \"\"\"\n",
    "        try:\n",
    "            self.vals[e] -= 1\n",
    "        except:\n",
    "            return\n",
    "                \n",
    "    def count(self, e):\n",
    "        \"\"\" assumes e is hashable\n",
    "            Returns the number of times e occurs in self. \"\"\"\n",
    "        try:\n",
    "            return self.vals[e]\n",
    "        except:\n",
    "            return 0\n",
    "    def __add__(a, b):\n",
    "        res = Bag()\n",
    "        for i in a.vals.keys():\n",
    "            for x in range(a.vals[i]):\n",
    "                res.insert(i)\n",
    "        for i in b.vals.keys():\n",
    "            for x in range(b.vals[i]):\n",
    "                res.insert(i)        \n",
    "        return res"
   ]
  },
  {
   "cell_type": "code",
   "execution_count": 56,
   "metadata": {},
   "outputs": [
    {
     "name": "stdout",
     "output_type": "stream",
     "text": [
      "4:2\n",
      "\n",
      "4:2\n",
      "\n"
     ]
    }
   ],
   "source": [
    "d1 = Bag()\n",
    "d1.insert(4)\n",
    "d1.insert(4)\n",
    "print(d1)\n",
    "d1.remove(2)\n",
    "print(d1)"
   ]
  },
  {
   "cell_type": "code",
   "execution_count": 57,
   "metadata": {},
   "outputs": [
    {
     "name": "stdout",
     "output_type": "stream",
     "text": [
      "0\n",
      "3\n"
     ]
    }
   ],
   "source": [
    "d1 = Bag()\n",
    "d1.insert(4)\n",
    "d1.insert(4)\n",
    "d1.insert(4)\n",
    "print(d1.count(2))\n",
    "print(d1.count(4))"
   ]
  },
  {
   "cell_type": "code",
   "execution_count": 60,
   "metadata": {},
   "outputs": [
    {
     "name": "stdout",
     "output_type": "stream",
     "text": [
      "3:1\n",
      "4:2\n",
      "\n"
     ]
    }
   ],
   "source": [
    "a = Bag()\n",
    "a.insert(4)\n",
    "a.insert(3)\n",
    "b = Bag()\n",
    "b.insert(4)\n",
    "print(a+b)"
   ]
  },
  {
   "cell_type": "code",
   "execution_count": 67,
   "metadata": {},
   "outputs": [],
   "source": [
    "class ASet(Container):\n",
    "    def remove(self, e):\n",
    "        \"\"\"assumes e is hashable\n",
    "           removes e from self\"\"\"\n",
    "        try:\n",
    "            if self.vals[e] > 0:\n",
    "                self.vals[e] = 0\n",
    "        except:\n",
    "            return\n",
    "\n",
    "    def is_in(self, e):\n",
    "        \"\"\"assumes e is hashable\n",
    "           returns True if e has been inserted in self and\n",
    "           not subsequently removed, and False otherwise.\"\"\"\n",
    "        try:\n",
    "            return self.vals[e] > 0\n",
    "                \n",
    "        except:\n",
    "            return False"
   ]
  },
  {
   "cell_type": "code",
   "execution_count": 68,
   "metadata": {},
   "outputs": [
    {
     "name": "stdout",
     "output_type": "stream",
     "text": [
      "4:2\n",
      "\n",
      "\n"
     ]
    }
   ],
   "source": [
    "d1 = ASet()\n",
    "d1.insert(4)\n",
    "d1.insert(4)\n",
    "\n",
    "d1.remove(2)\n",
    "print(d1)\n",
    "\n",
    "d1.remove(4)\n",
    "print(d1)"
   ]
  },
  {
   "cell_type": "code",
   "execution_count": 69,
   "metadata": {},
   "outputs": [
    {
     "name": "stdout",
     "output_type": "stream",
     "text": [
      "True\n",
      "True\n",
      "False\n"
     ]
    }
   ],
   "source": [
    "d1 = ASet()\n",
    "d1.insert(4)\n",
    "print(d1.is_in(4))\n",
    "d1.insert(5)\n",
    "print(d1.is_in(5))\n",
    "d1.remove(5)\n",
    "print(d1.is_in(5))"
   ]
  },
  {
   "cell_type": "code",
   "execution_count": 70,
   "metadata": {
    "collapsed": true
   },
   "outputs": [],
   "source": [
    "### Do not change the Location or Campus classes. ###\n",
    "### Location class is the same as in lecture.     ###\n",
    "class Location(object):\n",
    "    def __init__(self, x, y):\n",
    "        self.x = x\n",
    "        self.y = y\n",
    "    def move(self, deltaX, deltaY):\n",
    "        return Location(self.x + deltaX, self.y + deltaY)\n",
    "    def getX(self):\n",
    "        return self.x\n",
    "    def getY(self):\n",
    "        return self.y\n",
    "    def dist_from(self, other):\n",
    "        xDist = self.x - other.x\n",
    "        yDist = self.y - other.y\n",
    "        return (xDist**2 + yDist**2)**0.5\n",
    "    def __eq__(self, other):\n",
    "        return (self.x == other.x and self.y == other.y)\n",
    "    def __str__(self):\n",
    "        return '<' + str(self.x) + ',' + str(self.y) + '>'\n",
    "        \n",
    "class Campus(object):\n",
    "    def __init__(self, center_loc):\n",
    "        self.center_loc = center_loc\n",
    "    def __str__(self):\n",
    "        return str(self.center_loc)"
   ]
  },
  {
   "cell_type": "code",
   "execution_count": 131,
   "metadata": {
    "collapsed": true
   },
   "outputs": [],
   "source": [
    "class MITCampus(Campus):\n",
    "    \"\"\" A MITCampus is a Campus that contains tents \"\"\"\n",
    "    def __init__(self, center_loc, tent_loc = Location(0,0)):\n",
    "        \"\"\" Assumes center_loc and tent_loc are Location objects \n",
    "        Initializes a new Campus centered at location center_loc \n",
    "        with a tent at location tent_loc \"\"\"\n",
    "        Campus.__init__(self, center_loc)\n",
    "        self.tents = [tent_loc]\n",
    "      \n",
    "    def add_tent(self, new_tent_loc):\n",
    "        \"\"\" Assumes new_tent_loc is a Location\n",
    "        Adds new_tent_loc to the campus only if the tent is at least 0.5 distance \n",
    "        away from all other tents already there. Campus is unchanged otherwise.\n",
    "        Returns True if it could add the tent, False otherwise. \"\"\"\n",
    "        for tent in self.tents:\n",
    "            if tent.dist_from(new_tent_loc) < .5:\n",
    "                return False\n",
    "        self.tents.append(new_tent_loc)\n",
    "        return True\n",
    "      \n",
    "    def remove_tent(self, tent_loc):\n",
    "        \"\"\" Assumes tent_loc is a Location\n",
    "        Removes tent_loc from the campus. \n",
    "        Raises a ValueError if there is not a tent at tent_loc.\n",
    "        Does not return anything \"\"\"\n",
    "        self.tents.remove(tent_loc)\n",
    "      \n",
    "    def get_tents(self):\n",
    "        \"\"\" Returns a list of all tents on the campus. The list should contain \n",
    "        the string representation of the Location of a tent. The list should \n",
    "        be sorted by the x coordinate of the location. \"\"\"\n",
    "        # Your code here\n",
    "        tentStr = [str(loc) for loc in self.tents]\n",
    "        tentStr.sort()\n",
    "        return tentStr"
   ]
  },
  {
   "cell_type": "code",
   "execution_count": 132,
   "metadata": {
    "collapsed": true
   },
   "outputs": [],
   "source": [
    "a = [5]"
   ]
  },
  {
   "cell_type": "code",
   "execution_count": 133,
   "metadata": {
    "collapsed": true
   },
   "outputs": [],
   "source": [
    "a.append(6)"
   ]
  },
  {
   "cell_type": "code",
   "execution_count": 134,
   "metadata": {},
   "outputs": [
    {
     "data": {
      "text/plain": [
       "[5, 6]"
      ]
     },
     "execution_count": 134,
     "metadata": {},
     "output_type": "execute_result"
    }
   ],
   "source": [
    "a"
   ]
  },
  {
   "cell_type": "code",
   "execution_count": 135,
   "metadata": {},
   "outputs": [],
   "source": [
    "a.remove(6)"
   ]
  },
  {
   "cell_type": "code",
   "execution_count": 136,
   "metadata": {},
   "outputs": [
    {
     "data": {
      "text/plain": [
       "[5]"
      ]
     },
     "execution_count": 136,
     "metadata": {},
     "output_type": "execute_result"
    }
   ],
   "source": [
    "a"
   ]
  },
  {
   "cell_type": "code",
   "execution_count": 137,
   "metadata": {},
   "outputs": [],
   "source": [
    "c = MITCampus(Location(1,2))"
   ]
  },
  {
   "cell_type": "code",
   "execution_count": 138,
   "metadata": {},
   "outputs": [
    {
     "data": {
      "text/plain": [
       "True"
      ]
     },
     "execution_count": 138,
     "metadata": {},
     "output_type": "execute_result"
    }
   ],
   "source": [
    "c.add_tent(Location(2,3))"
   ]
  },
  {
   "cell_type": "code",
   "execution_count": 139,
   "metadata": {},
   "outputs": [
    {
     "data": {
      "text/plain": [
       "True"
      ]
     },
     "execution_count": 139,
     "metadata": {},
     "output_type": "execute_result"
    }
   ],
   "source": [
    "c.add_tent(Location(1,2))"
   ]
  },
  {
   "cell_type": "code",
   "execution_count": 140,
   "metadata": {},
   "outputs": [
    {
     "data": {
      "text/plain": [
       "False"
      ]
     },
     "execution_count": 140,
     "metadata": {},
     "output_type": "execute_result"
    }
   ],
   "source": [
    "c.add_tent(Location(0,0))"
   ]
  },
  {
   "cell_type": "code",
   "execution_count": 141,
   "metadata": {},
   "outputs": [
    {
     "data": {
      "text/plain": [
       "False"
      ]
     },
     "execution_count": 141,
     "metadata": {},
     "output_type": "execute_result"
    }
   ],
   "source": [
    "c.add_tent(Location(2,3))"
   ]
  },
  {
   "cell_type": "code",
   "execution_count": 142,
   "metadata": {},
   "outputs": [
    {
     "data": {
      "text/plain": [
       "['<0,0>', '<1,2>', '<2,3>']"
      ]
     },
     "execution_count": 142,
     "metadata": {},
     "output_type": "execute_result"
    }
   ],
   "source": [
    "c.get_tents()"
   ]
  },
  {
   "cell_type": "code",
   "execution_count": 93,
   "metadata": {
    "collapsed": true
   },
   "outputs": [],
   "source": [
    "c.remove_tent(Location(0,0))"
   ]
  },
  {
   "cell_type": "code",
   "execution_count": 104,
   "metadata": {
    "collapsed": true
   },
   "outputs": [],
   "source": [
    "a = [4,5,3,1]"
   ]
  },
  {
   "cell_type": "code",
   "execution_count": 105,
   "metadata": {},
   "outputs": [
    {
     "data": {
      "text/plain": [
       "[4, 5, 3, 1]"
      ]
     },
     "execution_count": 105,
     "metadata": {},
     "output_type": "execute_result"
    }
   ],
   "source": [
    "a"
   ]
  },
  {
   "cell_type": "code",
   "execution_count": 106,
   "metadata": {
    "collapsed": true
   },
   "outputs": [],
   "source": [
    "a.sort()"
   ]
  },
  {
   "cell_type": "code",
   "execution_count": 107,
   "metadata": {},
   "outputs": [
    {
     "data": {
      "text/plain": [
       "[1, 3, 4, 5]"
      ]
     },
     "execution_count": 107,
     "metadata": {},
     "output_type": "execute_result"
    }
   ],
   "source": [
    "a"
   ]
  },
  {
   "cell_type": "code",
   "execution_count": null,
   "metadata": {
    "collapsed": true
   },
   "outputs": [],
   "source": []
  }
 ],
 "metadata": {
  "kernelspec": {
   "display_name": "Python 3",
   "language": "python",
   "name": "python3"
  },
  "language_info": {
   "codemirror_mode": {
    "name": "ipython",
    "version": 3
   },
   "file_extension": ".py",
   "mimetype": "text/x-python",
   "name": "python",
   "nbconvert_exporter": "python",
   "pygments_lexer": "ipython3",
   "version": "3.6.1"
  }
 },
 "nbformat": 4,
 "nbformat_minor": 2
}
