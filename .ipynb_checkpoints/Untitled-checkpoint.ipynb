{
 "cells": [
  {
   "cell_type": "code",
   "execution_count": 46,
   "metadata": {
    "collapsed": true
   },
   "outputs": [],
   "source": [
    "def balanceYear(balanceNet, monthlyPayment, interest):\n",
    "    for month in range(12):\n",
    "        balanceNet = balanceNet - monthlyPayment\n",
    "        #print(monthlyPayment)\n",
    "        balanceNet = balanceNet + interest * balanceNet / 12.0 \n",
    "    return balanceNet"
   ]
  },
  {
   "cell_type": "code",
   "execution_count": 50,
   "metadata": {
    "collapsed": false
   },
   "outputs": [
    {
     "name": "stdout",
     "output_type": "stream",
     "text": [
      "Remaining Balance: -1293.79\n"
     ]
    }
   ],
   "source": [
    "balance = 3329\n",
    "mP = 400\n",
    "annualInterestRate = .2\n",
    "\n",
    "print(\"Remaining Balance: \" + str(round(balanceYear(balance, mP, annualInterestRate), 2)))"
   ]
  },
  {
   "cell_type": "code",
   "execution_count": 55,
   "metadata": {
    "collapsed": true
   },
   "outputs": [],
   "source": [
    "def lowestPayment10(balance, interest):\n",
    "    balanceNet = balance\n",
    "    monthlyPayment = 0\n",
    "    \n",
    "    while balanceNet >= 0:\n",
    "        monthlyPayment += 10\n",
    "        balanceNet = balanceYear(balance, monthlyPayment, interest)\n",
    "        #print(\"Payment :\" + str(monthlyPayment) + \"    \" + \"Balance : \" + str(balanceNet))\n",
    "    return monthlyPayment"
   ]
  },
  {
   "cell_type": "code",
   "execution_count": 56,
   "metadata": {
    "collapsed": false
   },
   "outputs": [
    {
     "name": "stdout",
     "output_type": "stream",
     "text": [
      "Lowest Payment: 310\n"
     ]
    }
   ],
   "source": [
    "print(\"Lowest Payment: \" + str(lowestPayment10(balance, annualInterestRate))) "
   ]
  },
  {
   "cell_type": "code",
   "execution_count": 58,
   "metadata": {
    "collapsed": false
   },
   "outputs": [
    {
     "name": "stdout",
     "output_type": "stream",
     "text": [
      "Lowest Payment: 60\n"
     ]
    }
   ],
   "source": [
    "balance = 637\n",
    "annualInterestRate = .25\n",
    "print(\"Lowest Payment: \" + str(lowestPayment10(balance, annualInterestRate)))"
   ]
  },
  {
   "cell_type": "code",
   "execution_count": null,
   "metadata": {
    "collapsed": true
   },
   "outputs": [],
   "source": [
    "def lowestPaymentIter(low, high, balance, interest):\n",
    "    if  balanceYear(balance, (high + low) / 2, interest) > .001:\n",
    "        ## Mid Payment too Low, Value is between Mid and High\n",
    "        return lowestPaymentIter((high + low) / 2, high, balance, interest)\n",
    "    elif balanceYear(balance, (high + low) / 2, interest) < -.001:\n",
    "        ## Mid Payment too High, Value is between Low and Mid\n",
    "        return lowestPaymentIter(low, (high + low) / 2, balance, interest)\n",
    "    else:\n",
    "        return (high + low) / 2"
   ]
  }
 ],
 "metadata": {
  "kernelspec": {
   "display_name": "Python 3",
   "language": "python",
   "name": "python3"
  },
  "language_info": {
   "codemirror_mode": {
    "name": "ipython",
    "version": 3
   },
   "file_extension": ".py",
   "mimetype": "text/x-python",
   "name": "python",
   "nbconvert_exporter": "python",
   "pygments_lexer": "ipython3",
   "version": "3.6.0"
  }
 },
 "nbformat": 4,
 "nbformat_minor": 2
}
