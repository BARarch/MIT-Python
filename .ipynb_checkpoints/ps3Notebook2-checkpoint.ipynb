{
 "cells": [
  {
   "cell_type": "code",
   "execution_count": 1,
   "metadata": {},
   "outputs": [
    {
     "name": "stdout",
     "output_type": "stream",
     "text": [
      "Loading word list from file...\n",
      "   55909 words loaded.\n"
     ]
    }
   ],
   "source": [
    "%run ps3_hangman.py\n"
   ]
  },
  {
   "cell_type": "code",
   "execution_count": 2,
   "metadata": {},
   "outputs": [
    {
     "name": "stdout",
     "output_type": "stream",
     "text": [
      "False\n"
     ]
    }
   ],
   "source": [
    "secretWord = 'apple'\n",
    "lettersGuessed = ['p', 'a', 'l',]\n",
    "print(isWordGuessed(secretWord, lettersGuessed))"
   ]
  },
  {
   "cell_type": "code",
   "execution_count": 3,
   "metadata": {},
   "outputs": [
    {
     "name": "stdout",
     "output_type": "stream",
     "text": [
      "_ p p _ e \n"
     ]
    }
   ],
   "source": [
    "lettersGuessed = ['e', 'i', 'k', 'p', 'r', 's']\n",
    "print(getGuessedWord(secretWord, lettersGuessed))"
   ]
  },
  {
   "cell_type": "code",
   "execution_count": 22,
   "metadata": {
    "collapsed": true
   },
   "outputs": [],
   "source": [
    "def hangman(secretWord):\n",
    "    '''\n",
    "    secretWord: string, the secret word to guess.\n",
    "\n",
    "    Starts up an interactive game of Hangman.\n",
    "\n",
    "    * At the start of the game, let the user know how many \n",
    "      letters the secretWord contains.\n",
    "\n",
    "    * Ask the user to supply one guess (i.e. letter) per round.\n",
    "\n",
    "    * The user should receive feedback immediately after each guess \n",
    "      about whether their guess appears in the computers word.\n",
    "\n",
    "    * After each round, you should also display to the user the \n",
    "      partially guessed word so far, as well as letters that the \n",
    "      user has not yet guessed.\n",
    "\n",
    "    Follows the other limitations detailed in the problem write-up.\n",
    "    '''\n",
    "    lettersGuessed = []\n",
    "    mistakesMade = 0\n",
    "    \n",
    "    print('Welcome to the game, Hangman!')\n",
    "    print('I am thinking of a word that is '+ str(len(secretWord)) + ' letters long.')\n",
    "    print('-----------')\n",
    "    \n",
    "    while mistakesMade < 8:\n",
    "        if isWordGuessed(secretWord, lettersGuessed):\n",
    "            print('Congratulations, you won!')\n",
    "            return\n",
    "        \n",
    "        print('You have ' + str(8 - mistakesMade) + ' guesses left')\n",
    "        print('Available Letters: ' + getAvailableLetters(lettersGuessed))\n",
    "        guess = input('Please guess a letter: ') \n",
    "        guess = guess[:1].lower()\n",
    "        \n",
    "        if guess in lettersGuessed:\n",
    "            print(\"Oops! You've already guessed that letter: \" + getGuessedWord(secretWord, lettersGuessed))\n",
    "        elif guess in secretWord:\n",
    "            lettersGuessed.append(guess) \n",
    "            print('Good guess: ' + getGuessedWord(secretWord, lettersGuessed))\n",
    "        else:\n",
    "            lettersGuessed.append(guess)\n",
    "            mistakesMade += 1\n",
    "            print(\"Oops! That letter is not in my word: \" + getGuessedWord(secretWord, lettersGuessed))\n",
    "        \n",
    "        print('-----------')\n",
    "    \n",
    "    print('Sorry, you ran out of guesses. The word was ' + secretWord + '.')\n",
    "    "
   ]
  },
  {
   "cell_type": "code",
   "execution_count": 24,
   "metadata": {},
   "outputs": [
    {
     "name": "stdout",
     "output_type": "stream",
     "text": [
      "Welcome to the game, Hangman!\n",
      "I am thinking of a word that is 5 letters long.\n",
      "You have 8 guesses left.\n",
      "Available letters: abcdefghijklmnopqrstuvwxyz\n",
      "Please guess a letter: d\n",
      "Oops! That letter is not in my word: _ _ _ _ _ \n",
      "-----------\n",
      "You have 7 guesses left.\n",
      "Available letters: abcefghijklmnopqrstuvwxyz\n",
      "Please guess a letter: s\n",
      "Oops! That letter is not in my word: _ _ _ _ _ \n",
      "-----------\n",
      "You have 6 guesses left.\n",
      "Available letters: abcefghijklmnopqrtuvwxyz\n",
      "Please guess a letter: 6\n",
      "Oops! That letter is not in my word: _ _ _ _ _ \n",
      "-----------\n",
      "You have 5 guesses left.\n",
      "Available letters: abcefghijklmnopqrtuvwxyz\n",
      "Please guess a letter: u\n",
      "Oops! That letter is not in my word: _ _ _ _ _ \n",
      "-----------\n",
      "You have 4 guesses left.\n",
      "Available letters: abcefghijklmnopqrtvwxyz\n",
      "Please guess a letter: e\n",
      "Good guess: _ _ _ _ e \n",
      "-----------\n",
      "You have 4 guesses left.\n",
      "Available letters: abcfghijklmnopqrtvwxyz\n",
      "Please guess a letter: w\n",
      "Oops! That letter is not in my word: _ _ _ _ e \n",
      "-----------\n",
      "You have 3 guesses left.\n",
      "Available letters: abcfghijklmnopqrtvxyz\n",
      "Please guess a letter: t\n",
      "Oops! That letter is not in my word: _ _ _ _ e \n",
      "-----------\n",
      "You have 2 guesses left.\n",
      "Available letters: abcfghijklmnopqrvxyz\n",
      "Please guess a letter: t\n",
      "Oops! You've already guessed that letter: _ _ _ _ e \n",
      "-----------\n",
      "You have 2 guesses left.\n",
      "Available letters: abcfghijklmnopqrvxyz\n",
      "Please guess a letter: g\n",
      "Oops! That letter is not in my word: _ _ _ _ e \n",
      "-----------\n",
      "You have 1 guesses left.\n",
      "Available letters: abcfhijklmnopqrvxyz\n",
      "Please guess a letter: j\n",
      "Oops! That letter is not in my word: _ _ _ _ e \n",
      "-----------\n",
      "Sorry, you ran out of guesses. The word was apple.\n"
     ]
    }
   ],
   "source": [
    "hangman(secretWord)"
   ]
  },
  {
   "cell_type": "code",
   "execution_count": 6,
   "metadata": {
    "collapsed": true
   },
   "outputs": [],
   "source": [
    "st = 'abc'"
   ]
  },
  {
   "cell_type": "code",
   "execution_count": 7,
   "metadata": {},
   "outputs": [
    {
     "ename": "NameError",
     "evalue": "name 'c' is not defined",
     "output_type": "error",
     "traceback": [
      "\u001b[1;31m---------------------------------------------------------------------------\u001b[0m",
      "\u001b[1;31mNameError\u001b[0m                                 Traceback (most recent call last)",
      "\u001b[1;32m<ipython-input-7-dbdb950c6f6b>\u001b[0m in \u001b[0;36m<module>\u001b[1;34m()\u001b[0m\n\u001b[1;32m----> 1\u001b[1;33m \u001b[0mc\u001b[0m \u001b[1;32min\u001b[0m \u001b[0mst\u001b[0m\u001b[1;33m\u001b[0m\u001b[0m\n\u001b[0m",
      "\u001b[1;31mNameError\u001b[0m: name 'c' is not defined"
     ]
    }
   ],
   "source": [
    "c in st"
   ]
  },
  {
   "cell_type": "code",
   "execution_count": 9,
   "metadata": {},
   "outputs": [
    {
     "data": {
      "text/plain": [
       "True"
      ]
     },
     "execution_count": 9,
     "metadata": {},
     "output_type": "execute_result"
    }
   ],
   "source": [
    "ts = 'c'\n",
    "ts in st"
   ]
  },
  {
   "cell_type": "code",
   "execution_count": 12,
   "metadata": {},
   "outputs": [
    {
     "name": "stdout",
     "output_type": "stream",
     "text": [
      "a\n"
     ]
    }
   ],
   "source": [
    "st  = 'ABC'\n",
    "print (st[:1].lower())"
   ]
  },
  {
   "cell_type": "code",
   "execution_count": 13,
   "metadata": {
    "collapsed": true
   },
   "outputs": [],
   "source": [
    "talley = []\n",
    "talley.append('a')"
   ]
  },
  {
   "cell_type": "code",
   "execution_count": 14,
   "metadata": {},
   "outputs": [
    {
     "data": {
      "text/plain": [
       "['a']"
      ]
     },
     "execution_count": 14,
     "metadata": {},
     "output_type": "execute_result"
    }
   ],
   "source": [
    "talley"
   ]
  },
  {
   "cell_type": "code",
   "execution_count": 25,
   "metadata": {},
   "outputs": [
    {
     "name": "stdout",
     "output_type": "stream",
     "text": [
      "Loading word list from file...\n",
      "   55909 words loaded.\n"
     ]
    }
   ],
   "source": [
    "%run ps3_hangman.py"
   ]
  },
  {
   "cell_type": "code",
   "execution_count": 26,
   "metadata": {},
   "outputs": [
    {
     "name": "stdout",
     "output_type": "stream",
     "text": [
      "Welcome to the game, Hangman!\n",
      "I am thinking of a word that is 8 letters long.\n",
      "-----------\n",
      "You have 8 guesses left\n",
      "Available Letters: abcdefghijklmnopqrstuvwxyz\n",
      "Please guess a letter: g\n",
      "Oops! That letter is not in my word: _ _ _ _ _ _ _ _ \n",
      "-----------\n",
      "You have 7 guesses left\n",
      "Available Letters: abcdefhijklmnopqrstuvwxyz\n",
      "Please guess a letter: g\n",
      "Oops! You've already guessed that letter: _ _ _ _ _ _ _ _ \n",
      "-----------\n",
      "You have 7 guesses left\n",
      "Available Letters: abcdefhijklmnopqrstuvwxyz\n",
      "Please guess a letter: u\n",
      "Oops! That letter is not in my word: _ _ _ _ _ _ _ _ \n",
      "-----------\n",
      "You have 6 guesses left\n",
      "Available Letters: abcdefhijklmnopqrstvwxyz\n",
      "Please guess a letter: i\n",
      "Oops! That letter is not in my word: _ _ _ _ _ _ _ _ \n",
      "-----------\n",
      "You have 5 guesses left\n",
      "Available Letters: abcdefhjklmnopqrstvwxyz\n",
      "Please guess a letter: e\n",
      "Good guess: _ _ _ _ _ _ e _ \n",
      "-----------\n",
      "You have 5 guesses left\n",
      "Available Letters: abcdfhjklmnopqrstvwxyz\n",
      "Please guess a letter: a\n",
      "Good guess: _ _ a _ _ _ e _ \n",
      "-----------\n",
      "You have 5 guesses left\n",
      "Available Letters: bcdfhjklmnopqrstvwxyz\n",
      "Please guess a letter: t\n",
      "Good guess: _ t a _ _ _ e _ \n",
      "-----------\n",
      "You have 5 guesses left\n",
      "Available Letters: bcdfhjklmnopqrsvwxyz\n",
      "Please guess a letter: o\n",
      "Oops! That letter is not in my word: _ t a _ _ _ e _ \n",
      "-----------\n",
      "You have 4 guesses left\n",
      "Available Letters: bcdfhjklmnpqrsvwxyz\n",
      "Please guess a letter: l\n",
      "Oops! That letter is not in my word: _ t a _ _ _ e _ \n",
      "-----------\n",
      "You have 3 guesses left\n",
      "Available Letters: bcdfhjkmnpqrsvwxyz\n",
      "Please guess a letter: s\n",
      "Good guess: s t a _ _ _ e s \n",
      "-----------\n",
      "You have 3 guesses left\n",
      "Available Letters: bcdfhjkmnpqrvwxyz\n",
      "Please guess a letter: c\n",
      "Good guess: s t a _ c _ e s \n",
      "-----------\n",
      "You have 3 guesses left\n",
      "Available Letters: bdfhjkmnpqrvwxyz\n",
      "Please guess a letter: p\n",
      "Oops! That letter is not in my word: s t a _ c _ e s \n",
      "-----------\n",
      "You have 2 guesses left\n",
      "Available Letters: bdfhjkmnqrvwxyz\n",
      "Please guess a letter: l\n",
      "Oops! You've already guessed that letter: s t a _ c _ e s \n",
      "-----------\n",
      "You have 2 guesses left\n",
      "Available Letters: bdfhjkmnqrvwxyz\n",
      "Please guess a letter: k\n",
      "Oops! That letter is not in my word: s t a _ c _ e s \n",
      "-----------\n",
      "You have 1 guesses left\n",
      "Available Letters: bdfhjmnqrvwxyz\n",
      "Please guess a letter: m\n",
      "Oops! That letter is not in my word: s t a _ c _ e s \n",
      "-----------\n",
      "Sorry, you ran out of guesses. The word was starches.\n"
     ]
    }
   ],
   "source": [
    "secretWord = chooseWord(wordlist).lower()\n",
    "hangman(secretWord)"
   ]
  },
  {
   "cell_type": "code",
   "execution_count": null,
   "metadata": {
    "collapsed": true
   },
   "outputs": [],
   "source": []
  }
 ],
 "metadata": {
  "kernelspec": {
   "display_name": "Python 3",
   "language": "python",
   "name": "python3"
  },
  "language_info": {
   "codemirror_mode": {
    "name": "ipython",
    "version": 3
   },
   "file_extension": ".py",
   "mimetype": "text/x-python",
   "name": "python",
   "nbconvert_exporter": "python",
   "pygments_lexer": "ipython3",
   "version": "3.6.1"
  }
 },
 "nbformat": 4,
 "nbformat_minor": 2
}
