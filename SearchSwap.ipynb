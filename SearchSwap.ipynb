{
 "cells": [
  {
   "cell_type": "code",
   "execution_count": 4,
   "metadata": {
    "collapsed": true
   },
   "outputs": [],
   "source": [
    "def swapSort(L): \n",
    "    \"\"\" L is a list on integers \"\"\"\n",
    "    print(\"Original L: \", L)\n",
    "    for i in range(len(L)):\n",
    "        print(\"Outer\")\n",
    "        for j in range(i+1, len(L)):\n",
    "            if L[j] < L[i]:\n",
    "                # the next line is a short \n",
    "                # form for swap L[i] and L[j]\n",
    "                L[j], L[i] = L[i], L[j] \n",
    "                print(L)\n",
    "    print(\"Final L: \", L)"
   ]
  },
  {
   "cell_type": "code",
   "execution_count": 5,
   "metadata": {},
   "outputs": [
    {
     "name": "stdout",
     "output_type": "stream",
     "text": [
      "Original L:  [12, 11, 15, 9, 8, 4, 45, 88]\n",
      "Outer\n",
      "[11, 12, 15, 9, 8, 4, 45, 88]\n",
      "[9, 12, 15, 11, 8, 4, 45, 88]\n",
      "[8, 12, 15, 11, 9, 4, 45, 88]\n",
      "[4, 12, 15, 11, 9, 8, 45, 88]\n",
      "Outer\n",
      "[4, 11, 15, 12, 9, 8, 45, 88]\n",
      "[4, 9, 15, 12, 11, 8, 45, 88]\n",
      "[4, 8, 15, 12, 11, 9, 45, 88]\n",
      "Outer\n",
      "[4, 8, 12, 15, 11, 9, 45, 88]\n",
      "[4, 8, 11, 15, 12, 9, 45, 88]\n",
      "[4, 8, 9, 15, 12, 11, 45, 88]\n",
      "Outer\n",
      "[4, 8, 9, 12, 15, 11, 45, 88]\n",
      "[4, 8, 9, 11, 15, 12, 45, 88]\n",
      "Outer\n",
      "[4, 8, 9, 11, 12, 15, 45, 88]\n",
      "Outer\n",
      "Outer\n",
      "Outer\n",
      "Final L:  [4, 8, 9, 11, 12, 15, 45, 88]\n"
     ]
    }
   ],
   "source": [
    "swapSort([12,11,15,9,8,4,45,88])"
   ]
  },
  {
   "cell_type": "code",
   "execution_count": 10,
   "metadata": {
    "collapsed": true
   },
   "outputs": [],
   "source": [
    "def modSwapSort(L): \n",
    "    \"\"\" L is a list on integers \"\"\"\n",
    "    print(\"Original L: \", L)\n",
    "    for i in range(len(L)):\n",
    "        print(\"Outer\")\n",
    "        for j in range(len(L)):\n",
    "            if L[j] < L[i]:\n",
    "                # the next line is a short \n",
    "                # form for swap L[i] and L[j]\n",
    "                L[j], L[i] = L[i], L[j] \n",
    "                print(L)\n",
    "    print(\"Final L: \", L)"
   ]
  },
  {
   "cell_type": "code",
   "execution_count": 16,
   "metadata": {},
   "outputs": [
    {
     "name": "stdout",
     "output_type": "stream",
     "text": [
      "Original L:  []\n",
      "Final L:  []\n"
     ]
    }
   ],
   "source": [
    "modSwapSort([])"
   ]
  },
  {
   "cell_type": "code",
   "execution_count": null,
   "metadata": {
    "collapsed": true
   },
   "outputs": [],
   "source": []
  }
 ],
 "metadata": {
  "kernelspec": {
   "display_name": "Python 3",
   "language": "python",
   "name": "python3"
  },
  "language_info": {
   "codemirror_mode": {
    "name": "ipython",
    "version": 3
   },
   "file_extension": ".py",
   "mimetype": "text/x-python",
   "name": "python",
   "nbconvert_exporter": "python",
   "pygments_lexer": "ipython3",
   "version": "3.6.1"
  }
 },
 "nbformat": 4,
 "nbformat_minor": 2
}
