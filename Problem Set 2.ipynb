{
 "cells": [
  {
   "cell_type": "code",
   "execution_count": 46,
   "metadata": {
    "collapsed": true
   },
   "outputs": [],
   "source": [
    "def balanceYear(balanceNet, monthlyPayment, interest):\n",
    "    for month in range(12):\n",
    "        balanceNet = balanceNet - monthlyPayment\n",
    "        #print(monthlyPayment)\n",
    "        balanceNet = balanceNet + interest * balanceNet / 12.0 \n",
    "    return balanceNet"
   ]
  },
  {
   "cell_type": "code",
   "execution_count": 50,
   "metadata": {
    "collapsed": false
   },
   "outputs": [
    {
     "name": "stdout",
     "output_type": "stream",
     "text": [
      "Remaining Balance: -1293.79\n"
     ]
    }
   ],
   "source": [
    "balance = 3329\n",
    "mP = 400\n",
    "annualInterestRate = .2\n",
    "\n",
    "print(\"Remaining Balance: \" + str(round(balanceYear(balance, mP, annualInterestRate), 2)))"
   ]
  },
  {
   "cell_type": "code",
   "execution_count": 55,
   "metadata": {
    "collapsed": true
   },
   "outputs": [],
   "source": [
    "def lowestPayment10(balance, interest):\n",
    "    balanceNet = balance\n",
    "    monthlyPayment = 0\n",
    "    \n",
    "    while balanceNet >= 0:\n",
    "        monthlyPayment += 10\n",
    "        balanceNet = balanceYear(balance, monthlyPayment, interest)\n",
    "        #print(\"Payment :\" + str(monthlyPayment) + \"    \" + \"Balance : \" + str(balanceNet))\n",
    "    return monthlyPayment"
   ]
  },
  {
   "cell_type": "code",
   "execution_count": 56,
   "metadata": {
    "collapsed": false
   },
   "outputs": [
    {
     "name": "stdout",
     "output_type": "stream",
     "text": [
      "Lowest Payment: 310\n"
     ]
    }
   ],
   "source": [
    "print(\"Lowest Payment: \" + str(lowestPayment10(balance, annualInterestRate))) "
   ]
  },
  {
   "cell_type": "code",
   "execution_count": 58,
   "metadata": {
    "collapsed": false
   },
   "outputs": [
    {
     "name": "stdout",
     "output_type": "stream",
     "text": [
      "Lowest Payment: 60\n"
     ]
    }
   ],
   "source": [
    "balance = 637\n",
    "annualInterestRate = .25\n",
    "print(\"Lowest Payment: \" + str(lowestPayment10(balance, annualInterestRate)))"
   ]
  },
  {
   "cell_type": "code",
   "execution_count": 74,
   "metadata": {
    "collapsed": true
   },
   "outputs": [],
   "source": [
    "def lowestPaymentIter(low, high, balance, interest):\n",
    "    if balanceYear(balance, (high + low) / 2, interest) > .001:\n",
    "        ## Mid Payment too Low, Value is between Mid and High\n",
    "        print(\"High: \" + str((high + low) / 2))\n",
    "        return lowestPaymentIter((high + low) / 2, high, balance, interest)\n",
    "    elif balanceYear(balance, (high + low) / 2, interest) < -.001:\n",
    "        ## Mid Payment too High, Value is between Low and Mid\n",
    "        print(\"Low: \"+ str((high + low) / 2))\n",
    "        return lowestPaymentIter(low, (high + low) / 2, balance, interest)\n",
    "\n",
    "    else:\n",
    "        return (high + low) / 2\n",
    "\n",
    "def lowestPaymentIter2(low, high, balance, interest):\n",
    "    if round(high, 2) == round(low, 2):\n",
    "        return round(high,2)\n",
    "    elif balanceYear(balance, (high + low) / 2, interest) > 0:\n",
    "        ## Mid Payment too Low, Value is between Mid and High\n",
    "        ##print(\"Low: \" + str((high + low) / 2))\n",
    "        return lowestPaymentIter2((high + low) / 2, high, balance, interest)\n",
    "    else:\n",
    "        ## Mid Payment too High, Value is between Low and Mid\n",
    "        ##print(\"High: \"+ str((high + low) / 2))\n",
    "        return lowestPaymentIter2(low, (high + low) / 2, balance, interest)\n",
    "    \n",
    "\n",
    "def lowestPayment(balance, interest):\n",
    "    monthlyInterest = interest / 12\n",
    "    low0 = balance / 12\n",
    "    high0 = (balance * (1 + monthlyInterest)**12) / 12\n",
    "    return lowestPaymentIter2(low0, high0, balance,interest)"
   ]
  },
  {
   "cell_type": "code",
   "execution_count": 75,
   "metadata": {
    "collapsed": false
   },
   "outputs": [
    {
     "name": "stdout",
     "output_type": "stream",
     "text": [
      "Lowest Payment: 90325.03\n"
     ]
    }
   ],
   "source": [
    "balance = 999999\n",
    "annualInterestRate = .18\n",
    "print(\"Lowest Payment: \" + str(lowestPayment(balance, annualInterestRate)))"
   ]
  },
  {
   "cell_type": "code",
   "execution_count": 69,
   "metadata": {
    "collapsed": false
   },
   "outputs": [
    {
     "name": "stdout",
     "output_type": "stream",
     "text": [
      "Remaining Balance: -0.03\n"
     ]
    }
   ],
   "source": [
    "print(\"Remaining Balance: \" + str(round(balanceYear(balance, 59.31, annualInterestRate), 2)))"
   ]
  },
  {
   "cell_type": "code",
   "execution_count": null,
   "metadata": {
    "collapsed": true
   },
   "outputs": [],
   "source": []
  }
 ],
 "metadata": {
  "kernelspec": {
   "display_name": "Python 3",
   "language": "python",
   "name": "python3"
  },
  "language_info": {
   "codemirror_mode": {
    "name": "ipython",
    "version": 3
   },
   "file_extension": ".py",
   "mimetype": "text/x-python",
   "name": "python",
   "nbconvert_exporter": "python",
   "pygments_lexer": "ipython3",
   "version": "3.6.0"
  }
 },
 "nbformat": 4,
 "nbformat_minor": 2
}
