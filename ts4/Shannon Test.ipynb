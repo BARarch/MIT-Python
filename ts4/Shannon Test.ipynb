{
 "cells": [
  {
   "cell_type": "code",
   "execution_count": 2,
   "metadata": {},
   "outputs": [
    {
     "name": "stdout",
     "output_type": "stream",
     "text": [
      "Loading word list from file...\n",
      "   83667 words loaded.\n",
      "Enter n to deal a new hand, r to replay the last hand, or e to end game: t\n",
      "Invalid command.\n",
      "Enter n to deal a new hand, r to replay the last hand, or e to end game: n\n",
      "Enter u to have yourself play, c to have the computer play:c\n",
      "Current Hand:  i e w j l f p \n",
      "\"flew\" earned 40 points. Total: 40 points\n",
      "\n",
      "Current Hand:  i j p \n",
      "\"pi\" earned 8 points. Total: 48 points\n",
      "\n",
      "Current Hand:  j \n",
      "Total score: 48 points.\n",
      "Enter n to deal a new hand, r to replay the last hand, or e to end game: r\n",
      "Enter u to have yourself play, c to have the computer play:c\n",
      "Current Hand:  i e w j l f p \n",
      "\"flew\" earned 40 points. Total: 40 points\n",
      "\n",
      "Current Hand:  i j p \n",
      "\"pi\" earned 8 points. Total: 48 points\n",
      "\n",
      "Current Hand:  j \n",
      "Total score: 48 points.\n",
      "Enter n to deal a new hand, r to replay the last hand, or e to end game: e\n"
     ]
    }
   ],
   "source": [
    "%run ps4bShannon.py\n"
   ]
  },
  {
   "cell_type": "code",
   "execution_count": null,
   "metadata": {
    "collapsed": true
   },
   "outputs": [],
   "source": []
  }
 ],
 "metadata": {
  "kernelspec": {
   "display_name": "Python 3",
   "language": "python",
   "name": "python3"
  },
  "language_info": {
   "codemirror_mode": {
    "name": "ipython",
    "version": 3
   },
   "file_extension": ".py",
   "mimetype": "text/x-python",
   "name": "python",
   "nbconvert_exporter": "python",
   "pygments_lexer": "ipython3",
   "version": "3.6.1"
  }
 },
 "nbformat": 4,
 "nbformat_minor": 2
}
