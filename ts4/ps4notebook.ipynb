{
 "cells": [
  {
   "cell_type": "code",
   "execution_count": 1,
   "metadata": {},
   "outputs": [
    {
     "name": "stdout",
     "output_type": "stream",
     "text": [
      "Loading word list from file...\n",
      "   83667 words loaded.\n",
      "playGame not yet implemented.\n"
     ]
    }
   ],
   "source": [
    "%run ps4a.py\n"
   ]
  },
  {
   "cell_type": "code",
   "execution_count": 11,
   "metadata": {},
   "outputs": [
    {
     "data": {
      "text/plain": [
       "{'i': 4, 'm': 1, 'p': 2, 's': 4}"
      ]
     },
     "execution_count": 11,
     "metadata": {},
     "output_type": "execute_result"
    }
   ],
   "source": [
    "getFrequencyDict(\"mississippi\")\n"
   ]
  },
  {
   "cell_type": "code",
   "execution_count": 12,
   "metadata": {
    "collapsed": true
   },
   "outputs": [],
   "source": [
    "def getWordScore(word, n):\n",
    "    \"\"\"\n",
    "    Returns the score for a word. Assumes the word is a valid word.\n",
    "\n",
    "    The score for a word is the sum of the points for letters in the\n",
    "    word, multiplied by the length of the word, PLUS 50 points if all n\n",
    "    letters are used on the first turn.\n",
    "\n",
    "    Letters are scored as in Scrabble; A is worth 1, B is worth 3, C is\n",
    "    worth 3, D is worth 2, E is worth 1, and so on (see SCRABBLE_LETTER_VALUES)\n",
    "\n",
    "    word: string (lowercase letters)\n",
    "    n: integer (HAND_SIZE; i.e., hand size required for additional points)\n",
    "    returns: int >= 0\n",
    "    \"\"\"\n",
    "    score = 0\n",
    "    freq = getFrequencyDict(word)\n",
    "    \n",
    "    for letter in freq:\n",
    "        score += SCRABBLE_LETTER_VALUES[letter] * freq[letter]\n",
    "    \n",
    "    score *= len(word)\n",
    "        \n",
    "    if len(word) == n:\n",
    "        score += 50\n",
    "        \n",
    "    return score"
   ]
  },
  {
   "cell_type": "code",
   "execution_count": 15,
   "metadata": {},
   "outputs": [
    {
     "data": {
      "text/plain": [
       "18"
      ]
     },
     "execution_count": 15,
     "metadata": {},
     "output_type": "execute_result"
    }
   ],
   "source": [
    "getWordScore(\"was\", 7)"
   ]
  },
  {
   "cell_type": "code",
   "execution_count": 16,
   "metadata": {},
   "outputs": [
    {
     "name": "stdout",
     "output_type": "stream",
     "text": [
      "Loading word list from file...\n",
      "   83667 words loaded.\n",
      "----------------------------------------------------------------------\n",
      "Testing getWordScore...\n",
      "SUCCESS: test_getWordScore()\n",
      "----------------------------------------------------------------------\n",
      "Testing updateHand...\n",
      "FAILURE: test_updateHand('quail', {'a': 1, 'q': 1, 'l': 2, 'm': 1, 'u': 1, 'i': 1})\n",
      "\tReturned:  None \n",
      "\t-- but expected: {'l': 1, 'm': 1} or {'a': 0, 'q': 0, 'l': 1, 'm': 1, 'u': 0, 'i': 0}\n",
      "----------------------------------------------------------------------\n",
      "Testing isValidWord...\n",
      "FAILURE: test_isValidWord()\n",
      "\tExpected True, but got False for word: 'hello' and hand: {'h': 1, 'e': 1, 'l': 2, 'o': 1}\n",
      "FAILURE: test_isValidWord()\n",
      "\tTesting word hello for a second time - have you modified wordList?\n",
      "The word hello should be in wordList - is it? True\n",
      "\tExpected True, but got False for word: 'hello' and hand: {'h': 1, 'e': 1, 'l': 2, 'o': 1}\n",
      "FAILURE: test_isValidWord()\n",
      "\tExpected True, but got False for word: 'honey' and hand: {'n': 1, 'h': 1, 'o': 1, 'y': 1, 'd': 1, 'w': 1, 'e': 2}\n",
      "FAILURE: test_isValidWord()\n",
      "\tExpected True, but got False for word: 'evil' and hand: {'e': 1, 'v': 2, 'n': 1, 'i': 1, 'l': 2}\n",
      "----------------------------------------------------------------------\n",
      "All done!\n"
     ]
    }
   ],
   "source": [
    "%run test_ps4a.py"
   ]
  },
  {
   "cell_type": "code",
   "execution_count": null,
   "metadata": {
    "collapsed": true
   },
   "outputs": [],
   "source": []
  }
 ],
 "metadata": {
  "kernelspec": {
   "display_name": "Python 3",
   "language": "python",
   "name": "python3"
  },
  "language_info": {
   "codemirror_mode": {
    "name": "ipython",
    "version": 3
   },
   "file_extension": ".py",
   "mimetype": "text/x-python",
   "name": "python",
   "nbconvert_exporter": "python",
   "pygments_lexer": "ipython3",
   "version": "3.6.1"
  }
 },
 "nbformat": 4,
 "nbformat_minor": 2
}
