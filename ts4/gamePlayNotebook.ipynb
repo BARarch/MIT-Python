{
 "cells": [
  {
   "cell_type": "code",
   "execution_count": 1,
   "metadata": {},
   "outputs": [
    {
     "name": "stdout",
     "output_type": "stream",
     "text": [
      "Loading word list from file...\n",
      "   83667 words loaded.\n",
      "----------------------------------------------------------------------\n",
      "Testing getWordScore...\n",
      "SUCCESS: test_getWordScore()\n",
      "----------------------------------------------------------------------\n",
      "Testing updateHand...\n",
      "SUCCESS: test_updateHand()\n",
      "----------------------------------------------------------------------\n",
      "Testing isValidWord...\n",
      "SUCCESS: test_isValidWord()\n",
      "----------------------------------------------------------------------\n",
      "All done!\n"
     ]
    }
   ],
   "source": [
    "%run test_ps4a.py"
   ]
  },
  {
   "cell_type": "code",
   "execution_count": 4,
   "metadata": {},
   "outputs": [],
   "source": [
    "def playGame(wordList):\n",
    "    \"\"\"\n",
    "    Allow the user to play an arbitrary number of hands.\n",
    " \n",
    "    1) Asks the user to input 'n' or 'r' or 'e'.\n",
    "      * If the user inputs 'n', let the user play a new (random) hand.\n",
    "      * If the user inputs 'r', let the user play the last hand again.\n",
    "      * If the user inputs 'e', exit the game.\n",
    "      * If the user inputs anything else, tell them their input was invalid.\n",
    " \n",
    "    2) When done playing the hand, repeat from step 1\n",
    "    \"\"\"\n",
    "    hand = {}\n",
    "    \n",
    "    while True:\n",
    "        userCmd = input('Enter n to deal a new hand, r to replay the last hand, or e to end game: ')\n",
    "\n",
    "        if userCmd == 'n':\n",
    "            hand = dealHand(HAND_SIZE)\n",
    "        elif userCmd == 'r':\n",
    "            if not hand:\n",
    "                print('You have not played a hand yet. Please play a new hand first!')\n",
    "                print()\n",
    "                continue\n",
    "        elif userCmd == 'e':\n",
    "            break\n",
    "        else:\n",
    "            print('Invalid command.')\n",
    "            continue\n",
    "            \n",
    "        playHand(hand, wordList, HAND_SIZE)\n",
    "        print()\n",
    "                \n",
    "            "
   ]
  },
  {
   "cell_type": "code",
   "execution_count": 3,
   "metadata": {},
   "outputs": [
    {
     "data": {
      "text/plain": [
       "7"
      ]
     },
     "execution_count": 3,
     "metadata": {},
     "output_type": "execute_result"
    }
   ],
   "source": [
    "HAND_SIZE"
   ]
  },
  {
   "cell_type": "code",
   "execution_count": 5,
   "metadata": {},
   "outputs": [
    {
     "name": "stdout",
     "output_type": "stream",
     "text": [
      "Loading word list from file...\n",
      "   83667 words loaded.\n"
     ]
    }
   ],
   "source": [
    "wordList = loadWords()"
   ]
  },
  {
   "cell_type": "code",
   "execution_count": 8,
   "metadata": {},
   "outputs": [
    {
     "name": "stdout",
     "output_type": "stream",
     "text": [
      "Enter n to deal a new hand, r to replay the last hand, or e to end game: r\n",
      "You have not played a hand yet. Please play a new hand first!\n",
      "\n",
      "Enter n to deal a new hand, r to replay the last hand, or e to end game: r\n",
      "You have not played a hand yet. Please play a new hand first!\n",
      "\n",
      "Enter n to deal a new hand, r to replay the last hand, or e to end game: n\n",
      "Current Hand: i u n f r d y \n",
      "Enter word, or a \".\" to indicate that you are finnished: dry\n",
      "\"dry\" earned 21 points. Total: 21 points.\n",
      "\n",
      "Current Hand: i u n f \n",
      "Enter word, or a \".\" to indicate that you are finnished: fun\n",
      "\"fun\" earned 18 points. Total: 39 points.\n",
      "\n",
      "Current Hand: i \n",
      "Enter word, or a \".\" to indicate that you are finnished: .\n",
      "Goodbye! Total score: 39 points.\n",
      "\n",
      "Enter n to deal a new hand, r to replay the last hand, or e to end game: n\n",
      "Current Hand: u a k s t v m \n",
      "Enter word, or a \".\" to indicate that you are finnished: mast\n",
      "\"mast\" earned 24 points. Total: 24 points.\n",
      "\n",
      "Current Hand: u k v \n",
      "Enter word, or a \".\" to indicate that you are finnished: .\n",
      "Goodbye! Total score: 24 points.\n",
      "\n",
      "Enter n to deal a new hand, r to replay the last hand, or e to end game: r\n",
      "Current Hand: u a k s t v m \n",
      "Enter word, or a \".\" to indicate that you are finnished: skum\n",
      "Invalid word, please try again.\n",
      "\n",
      "Current Hand: u a k s t v m \n",
      "Enter word, or a \".\" to indicate that you are finnished: stavum\n",
      "Invalid word, please try again.\n",
      "\n",
      "Current Hand: u a k s t v m \n",
      "Enter word, or a \".\" to indicate that you are finnished: must\n",
      "\"must\" earned 24 points. Total: 24 points.\n",
      "\n",
      "Current Hand: a k v \n",
      "Enter word, or a \".\" to indicate that you are finnished: kav\n",
      "Invalid word, please try again.\n",
      "\n",
      "Current Hand: a k v \n",
      "Enter word, or a \".\" to indicate that you are finnished: .\n",
      "Goodbye! Total score: 24 points.\n",
      "\n",
      "Enter n to deal a new hand, r to replay the last hand, or e to end game: e\n"
     ]
    }
   ],
   "source": [
    "playGame(wordList)"
   ]
  },
  {
   "cell_type": "code",
   "execution_count": 1,
   "metadata": {},
   "outputs": [
    {
     "name": "stdout",
     "output_type": "stream",
     "text": [
      "Loading word list from file...\n",
      "   83667 words loaded.\n",
      "Enter n to deal a new hand, r to replay the last hand, or e to end game: n\n",
      "Current Hand: e i p n w r c \n",
      "Enter word, or a \".\" to indicate that you are finnished: wine\n",
      "\"wine\" earned 28 points. Total: 28 points.\n",
      "\n",
      "Current Hand: p r c \n",
      "Enter word, or a \".\" to indicate that you are finnished: .\n",
      "Goodbye! Total score: 28 points.\n",
      "\n",
      "Enter n to deal a new hand, r to replay the last hand, or e to end game: n\n",
      "Current Hand: u u c c l b w \n",
      "Enter word, or a \".\" to indicate that you are finnished: club\n",
      "\"club\" earned 32 points. Total: 32 points.\n",
      "\n",
      "Current Hand: u c w \n",
      "Enter word, or a \".\" to indicate that you are finnished: wuc\n",
      "Invalid word, please try again.\n",
      "\n",
      "Current Hand: u c w \n",
      "Enter word, or a \".\" to indicate that you are finnished: .\n",
      "Goodbye! Total score: 32 points.\n",
      "\n",
      "Enter n to deal a new hand, r to replay the last hand, or e to end game: e\n"
     ]
    }
   ],
   "source": [
    "%run ps4a.py\n"
   ]
  },
  {
   "cell_type": "code",
   "execution_count": 7,
   "metadata": {
    "collapsed": true
   },
   "outputs": [],
   "source": [
    "def playGameDual(wordList):\n",
    "    \"\"\"\n",
    "    Allow the user to play an arbitrary number of hands.\n",
    " \n",
    "    1) Asks the user to input 'n' or 'r' or 'e'.\n",
    "        * If the user inputs 'e', immediately exit the game.\n",
    "        * If the user inputs anything that's not 'n', 'r', or 'e', keep asking them again.\n",
    "\n",
    "    2) Asks the user to input a 'u' or a 'c'.\n",
    "        * If the user inputs anything that's not 'c' or 'u', keep asking them again.\n",
    "\n",
    "    3) Switch functionality based on the above choices:\n",
    "        * If the user inputted 'n', play a new (random) hand.\n",
    "        * Else, if the user inputted 'r', play the last hand again.\n",
    "          But if no hand was played, output \"You have not played a hand yet. \n",
    "          Please play a new hand first!\"\n",
    "        \n",
    "        * If the user inputted 'u', let the user play the game\n",
    "          with the selected hand, using playHand.\n",
    "        * If the user inputted 'c', let the computer play the \n",
    "          game with the selected hand, using compPlayHand.\n",
    "\n",
    "    4) After the computer or user has played the hand, repeat from step 1\n",
    "\n",
    "    wordList: list (string)\n",
    "    \"\"\"\n",
    "\n",
    "    hand = {}\n",
    "    \n",
    "    while True:\n",
    "        userCmd = input('Enter n to deal a new hand, r to replay the last hand, or e to end game: ')\n",
    "\n",
    "        if userCmd == 'n':\n",
    "            hand = dealHand(HAND_SIZE)\n",
    "        elif userCmd == 'r':\n",
    "            if not hand:\n",
    "                print('You have not played a hand yet. Please play a new hand first!')\n",
    "                print()\n",
    "                continue\n",
    "        elif userCmd == 'e':\n",
    "            break\n",
    "        else:\n",
    "            print('Invalid command.')\n",
    "            continue\n",
    "        \n",
    "        while True:\n",
    "            playCmd = input('Enter u to have yourself play, c to have the computer play: ')\n",
    "            \n",
    "            if playCmd == 'u':\n",
    "                playHand(hand, wordList, HAND_SIZE)\n",
    "                break\n",
    "            elif playCmd == 'c':\n",
    "                compPlayHand(hand, wordList, HAND_SIZE)\n",
    "                break\n",
    "            else:\n",
    "                print('Invalid command.')\n",
    "                print()\n",
    "                continue\n",
    "        print()    \n"
   ]
  },
  {
   "cell_type": "code",
   "execution_count": 2,
   "metadata": {
    "collapsed": true
   },
   "outputs": [],
   "source": [
    "from ps4b import *"
   ]
  },
  {
   "cell_type": "code",
   "execution_count": 3,
   "metadata": {},
   "outputs": [
    {
     "data": {
      "text/plain": [
       "<function ps4b.compPlayHand>"
      ]
     },
     "execution_count": 3,
     "metadata": {},
     "output_type": "execute_result"
    }
   ],
   "source": [
    "compPlayHand\n"
   ]
  },
  {
   "cell_type": "code",
   "execution_count": 6,
   "metadata": {},
   "outputs": [
    {
     "name": "stdout",
     "output_type": "stream",
     "text": [
      "Enter n to deal a new hand, r to replay the last hand, or e to end game: n\n",
      "Enter u to have yourself play, c to have the computer play: u\n",
      "Current Hand: o i j j c p t \n",
      "Enter word, or a \".\" to indicate that you are finnished: pit\n",
      "\"pit\" earned 15 points. Total: 15 points.\n",
      "\n",
      "Current Hand: o j j c \n",
      "Enter word, or a \".\" to indicate that you are finnished: .\n",
      "Goodbye! Total score: 15 points.\n",
      "\n",
      "Enter n to deal a new hand, r to replay the last hand, or e to end game: r\n",
      "Enter u to have yourself play, c to have the computer play: c\n",
      "Current Hand:  o i j j c p t \n",
      "\"optic\" earned 45 points. Total: 45 points\n",
      "\n",
      "Current Hand:  j j \n",
      "Total score: 45 points.\n",
      "\n",
      "Enter n to deal a new hand, r to replay the last hand, or e to end game: n\n",
      "Enter u to have yourself play, c to have the computer play: p\n",
      "Invalid command.\n",
      "\n",
      "Enter u to have yourself play, c to have the computer play: r\n",
      "Invalid command.\n",
      "\n",
      "Enter u to have yourself play, c to have the computer play: u\n",
      "Current Hand: a u x l k q f \n",
      "Enter word, or a \".\" to indicate that you are finnished: qualf\n",
      "Invalid word, please try again.\n",
      "\n",
      "Current Hand: a u x l k q f \n",
      "Enter word, or a \".\" to indicate that you are finnished: qual\n",
      "Invalid word, please try again.\n",
      "\n",
      "Current Hand: a u x l k q f \n",
      "Enter word, or a \".\" to indicate that you are finnished: flax\n",
      "\"flax\" earned 56 points. Total: 56 points.\n",
      "\n",
      "Current Hand: u k q \n",
      "Enter word, or a \".\" to indicate that you are finnished: .\n",
      "Goodbye! Total score: 56 points.\n",
      "\n",
      "Enter n to deal a new hand, r to replay the last hand, or e to end game: r\n",
      "Enter u to have yourself play, c to have the computer play: c\n",
      "Current Hand:  a u x l k q f \n",
      "\"falx\" earned 56 points. Total: 56 points\n",
      "\n",
      "Current Hand:  u k q \n",
      "Total score: 56 points.\n",
      "\n",
      "Enter n to deal a new hand, r to replay the last hand, or e to end game: e\n"
     ]
    }
   ],
   "source": [
    "playGameDual(wordList)"
   ]
  },
  {
   "cell_type": "code",
   "execution_count": null,
   "metadata": {},
   "outputs": [
    {
     "name": "stdout",
     "output_type": "stream",
     "text": [
      "Loading word list from file...\n",
      "   83667 words loaded.\n",
      "Enter n to deal a new hand, r to replay the last hand, or e to end game: n\n",
      "Enter u to have yourself play, c to have the computer play: c\n",
      "Current Hand:  u a f l c z v \n",
      "\"calf\" earned 36 points. Total: 36 points\n",
      "\n",
      "Current Hand:  u z v \n",
      "Total score: 36 points.\n",
      "\n",
      "Enter n to deal a new hand, r to replay the last hand, or e to end game: r\n",
      "Enter u to have yourself play, c to have the computer play: u\n",
      "Current Hand: u a f l c z v \n",
      "Enter word, or a \".\" to indicate that you are finnished: flu\n",
      "\"flu\" earned 18 points. Total: 18 points.\n",
      "\n",
      "Current Hand: a c z v \n",
      "Enter word, or a \".\" to indicate that you are finnished: .\n",
      "Goodbye! Total score: 18 points.\n",
      "\n"
     ]
    }
   ],
   "source": [
    "%run ps4b.py\n"
   ]
  },
  {
   "cell_type": "code",
   "execution_count": null,
   "metadata": {
    "collapsed": true
   },
   "outputs": [],
   "source": []
  }
 ],
 "metadata": {
  "kernelspec": {
   "display_name": "Python 3",
   "language": "python",
   "name": "python3"
  },
  "language_info": {
   "codemirror_mode": {
    "name": "ipython",
    "version": 3
   },
   "file_extension": ".py",
   "mimetype": "text/x-python",
   "name": "python",
   "nbconvert_exporter": "python",
   "pygments_lexer": "ipython3",
   "version": "3.6.1"
  }
 },
 "nbformat": 4,
 "nbformat_minor": 2
}
