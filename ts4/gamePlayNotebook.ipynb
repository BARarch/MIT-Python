{
 "cells": [
  {
   "cell_type": "code",
   "execution_count": 1,
   "metadata": {},
   "outputs": [
    {
     "name": "stdout",
     "output_type": "stream",
     "text": [
      "Loading word list from file...\n",
      "   83667 words loaded.\n",
      "----------------------------------------------------------------------\n",
      "Testing getWordScore...\n",
      "SUCCESS: test_getWordScore()\n",
      "----------------------------------------------------------------------\n",
      "Testing updateHand...\n",
      "SUCCESS: test_updateHand()\n",
      "----------------------------------------------------------------------\n",
      "Testing isValidWord...\n",
      "SUCCESS: test_isValidWord()\n",
      "----------------------------------------------------------------------\n",
      "All done!\n"
     ]
    }
   ],
   "source": [
    "%run test_ps4a.py"
   ]
  },
  {
   "cell_type": "code",
   "execution_count": 4,
   "metadata": {},
   "outputs": [],
   "source": [
    "def playGame(wordList):\n",
    "    \"\"\"\n",
    "    Allow the user to play an arbitrary number of hands.\n",
    " \n",
    "    1) Asks the user to input 'n' or 'r' or 'e'.\n",
    "      * If the user inputs 'n', let the user play a new (random) hand.\n",
    "      * If the user inputs 'r', let the user play the last hand again.\n",
    "      * If the user inputs 'e', exit the game.\n",
    "      * If the user inputs anything else, tell them their input was invalid.\n",
    " \n",
    "    2) When done playing the hand, repeat from step 1\n",
    "    \"\"\"\n",
    "    hand = {}\n",
    "    \n",
    "    while True:\n",
    "        userCmd = input('Enter n to deal a new hand, r to replay the last hand, or e to end game: ')\n",
    "\n",
    "        if userCmd == 'n':\n",
    "            hand = dealHand(HAND_SIZE)\n",
    "        elif userCmd == 'r':\n",
    "            if not hand:\n",
    "                print('You have not played a hand yet. Please play a new hand first!')\n",
    "                print()\n",
    "                continue\n",
    "        elif userCmd == 'e':\n",
    "            break\n",
    "        else:\n",
    "            print('Invalid command.')\n",
    "            continue\n",
    "            \n",
    "        playHand(hand, wordList, HAND_SIZE)\n",
    "        print()\n",
    "                \n",
    "            "
   ]
  },
  {
   "cell_type": "code",
   "execution_count": 3,
   "metadata": {},
   "outputs": [
    {
     "data": {
      "text/plain": [
       "7"
      ]
     },
     "execution_count": 3,
     "metadata": {},
     "output_type": "execute_result"
    }
   ],
   "source": [
    "HAND_SIZE"
   ]
  },
  {
   "cell_type": "code",
   "execution_count": 5,
   "metadata": {},
   "outputs": [
    {
     "name": "stdout",
     "output_type": "stream",
     "text": [
      "Loading word list from file...\n",
      "   83667 words loaded.\n"
     ]
    }
   ],
   "source": [
    "wordList = loadWords()"
   ]
  },
  {
   "cell_type": "code",
   "execution_count": 8,
   "metadata": {},
   "outputs": [
    {
     "name": "stdout",
     "output_type": "stream",
     "text": [
      "Enter n to deal a new hand, r to replay the last hand, or e to end game: r\n",
      "You have not played a hand yet. Please play a new hand first!\n",
      "\n",
      "Enter n to deal a new hand, r to replay the last hand, or e to end game: r\n",
      "You have not played a hand yet. Please play a new hand first!\n",
      "\n",
      "Enter n to deal a new hand, r to replay the last hand, or e to end game: n\n",
      "Current Hand: i u n f r d y \n",
      "Enter word, or a \".\" to indicate that you are finnished: dry\n",
      "\"dry\" earned 21 points. Total: 21 points.\n",
      "\n",
      "Current Hand: i u n f \n",
      "Enter word, or a \".\" to indicate that you are finnished: fun\n",
      "\"fun\" earned 18 points. Total: 39 points.\n",
      "\n",
      "Current Hand: i \n",
      "Enter word, or a \".\" to indicate that you are finnished: .\n",
      "Goodbye! Total score: 39 points.\n",
      "\n",
      "Enter n to deal a new hand, r to replay the last hand, or e to end game: n\n",
      "Current Hand: u a k s t v m \n",
      "Enter word, or a \".\" to indicate that you are finnished: mast\n",
      "\"mast\" earned 24 points. Total: 24 points.\n",
      "\n",
      "Current Hand: u k v \n",
      "Enter word, or a \".\" to indicate that you are finnished: .\n",
      "Goodbye! Total score: 24 points.\n",
      "\n",
      "Enter n to deal a new hand, r to replay the last hand, or e to end game: r\n",
      "Current Hand: u a k s t v m \n",
      "Enter word, or a \".\" to indicate that you are finnished: skum\n",
      "Invalid word, please try again.\n",
      "\n",
      "Current Hand: u a k s t v m \n",
      "Enter word, or a \".\" to indicate that you are finnished: stavum\n",
      "Invalid word, please try again.\n",
      "\n",
      "Current Hand: u a k s t v m \n",
      "Enter word, or a \".\" to indicate that you are finnished: must\n",
      "\"must\" earned 24 points. Total: 24 points.\n",
      "\n",
      "Current Hand: a k v \n",
      "Enter word, or a \".\" to indicate that you are finnished: kav\n",
      "Invalid word, please try again.\n",
      "\n",
      "Current Hand: a k v \n",
      "Enter word, or a \".\" to indicate that you are finnished: .\n",
      "Goodbye! Total score: 24 points.\n",
      "\n",
      "Enter n to deal a new hand, r to replay the last hand, or e to end game: e\n"
     ]
    }
   ],
   "source": [
    "playGame(wordList)"
   ]
  },
  {
   "cell_type": "code",
   "execution_count": null,
   "metadata": {},
   "outputs": [
    {
     "name": "stdout",
     "output_type": "stream",
     "text": [
      "Loading word list from file...\n",
      "   83667 words loaded.\n",
      "Enter n to deal a new hand, r to replay the last hand, or e to end game: n\n",
      "Current Hand: e i p n w r c \n",
      "Enter word, or a \".\" to indicate that you are finnished: wine\n",
      "\"wine\" earned 28 points. Total: 28 points.\n",
      "\n",
      "Current Hand: p r c \n",
      "Enter word, or a \".\" to indicate that you are finnished: .\n",
      "Goodbye! Total score: 28 points.\n",
      "\n",
      "Enter n to deal a new hand, r to replay the last hand, or e to end game: n\n",
      "Current Hand: u u c c l b w \n",
      "Enter word, or a \".\" to indicate that you are finnished: club\n",
      "\"club\" earned 32 points. Total: 32 points.\n",
      "\n",
      "Current Hand: u c w \n"
     ]
    }
   ],
   "source": [
    "%run ps4a.py\n"
   ]
  },
  {
   "cell_type": "code",
   "execution_count": null,
   "metadata": {
    "collapsed": true
   },
   "outputs": [],
   "source": []
  }
 ],
 "metadata": {
  "kernelspec": {
   "display_name": "Python 3",
   "language": "python",
   "name": "python3"
  },
  "language_info": {
   "codemirror_mode": {
    "name": "ipython",
    "version": 3
   },
   "file_extension": ".py",
   "mimetype": "text/x-python",
   "name": "python",
   "nbconvert_exporter": "python",
   "pygments_lexer": "ipython3",
   "version": "3.6.1"
  }
 },
 "nbformat": 4,
 "nbformat_minor": 2
}
