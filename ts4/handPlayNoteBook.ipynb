{
 "cells": [
  {
   "cell_type": "code",
   "execution_count": 1,
   "metadata": {},
   "outputs": [
    {
     "name": "stdout",
     "output_type": "stream",
     "text": [
      "Loading word list from file...\n",
      "   83667 words loaded.\n",
      "----------------------------------------------------------------------\n",
      "Testing getWordScore...\n",
      "SUCCESS: test_getWordScore()\n",
      "----------------------------------------------------------------------\n",
      "Testing updateHand...\n",
      "SUCCESS: test_updateHand()\n",
      "----------------------------------------------------------------------\n",
      "Testing isValidWord...\n",
      "SUCCESS: test_isValidWord()\n",
      "----------------------------------------------------------------------\n",
      "All done!\n"
     ]
    }
   ],
   "source": [
    "%run test_ps4a.py"
   ]
  },
  {
   "cell_type": "code",
   "execution_count": null,
   "metadata": {
    "collapsed": true
   },
   "outputs": [],
   "source": [
    "def playHand(hand, wordList, n):\n",
    "    \"\"\"\n",
    "    Allows the user to play the given hand, as follows:\n",
    "\n",
    "    * The hand is displayed.\n",
    "    * The user may input a word or a single period (the string \".\") \n",
    "      to indicate they're done playing\n",
    "    * Invalid words are rejected, and a message is displayed asking\n",
    "      the user to choose another word until they enter a valid word or \".\"\n",
    "    * When a valid word is entered, it uses up letters from the hand.\n",
    "    * After every valid word: the score for that word is displayed,\n",
    "      the remaining letters in the hand are displayed, and the user\n",
    "      is asked to input another word.\n",
    "    * The sum of the word scores is displayed when the hand finishes.\n",
    "    * The hand finishes when there are no more unused letters or the user\n",
    "      inputs a \".\"\n",
    "\n",
    "      hand: dictionary (string -> int)\n",
    "      wordList: list of lowercase strings\n",
    "      n: integer (HAND_SIZE; i.e., hand size required for additional points)\n",
    "      \n",
    "    \"\"\"\n",
    "    # BEGIN PSEUDOCODE <-- Remove this comment when you code this function; do your coding within the pseudocode (leaving those comments in-place!)\n",
    "    # Keep track of the total score\n",
    "    \n",
    "    # As long as there are still letters left in the hand:\n",
    "    \n",
    "        # Display the hand\n",
    "        \n",
    "        # Ask user for input\n",
    "        \n",
    "        # If the input is a single period:\n",
    "        \n",
    "            # End the game (break out of the loop)\n",
    "\n",
    "            \n",
    "        # Otherwise (the input is not a single period):\n",
    "        \n",
    "            # If the word is not valid:\n",
    "            \n",
    "                # Reject invalid word (print a message followed by a blank line)\n",
    "\n",
    "            # Otherwise (the word is valid):\n",
    "\n",
    "                # Tell the user how many points the word earned, and the updated total score, in one line followed by a blank line\n",
    "                \n",
    "                # Update the hand \n",
    "                \n",
    "\n",
    "    # Game is over (user entered a '.' or ran out of letters), so tell user the total score\n",
    "\n"
   ]
  }
 ],
 "metadata": {
  "kernelspec": {
   "display_name": "Python 3",
   "language": "python",
   "name": "python3"
  },
  "language_info": {
   "codemirror_mode": {
    "name": "ipython",
    "version": 3
   },
   "file_extension": ".py",
   "mimetype": "text/x-python",
   "name": "python",
   "nbconvert_exporter": "python",
   "pygments_lexer": "ipython3",
   "version": "3.6.1"
  }
 },
 "nbformat": 4,
 "nbformat_minor": 2
}
