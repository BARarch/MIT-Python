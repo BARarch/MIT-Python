{
 "cells": [
  {
   "cell_type": "code",
   "execution_count": 1,
   "metadata": {},
   "outputs": [
    {
     "name": "stdout",
     "output_type": "stream",
     "text": [
      "Loading word list from file...\n",
      "   83667 words loaded.\n",
      "----------------------------------------------------------------------\n",
      "Testing getWordScore...\n",
      "SUCCESS: test_getWordScore()\n",
      "----------------------------------------------------------------------\n",
      "Testing updateHand...\n",
      "SUCCESS: test_updateHand()\n",
      "----------------------------------------------------------------------\n",
      "Testing isValidWord...\n",
      "SUCCESS: test_isValidWord()\n",
      "----------------------------------------------------------------------\n",
      "All done!\n"
     ]
    }
   ],
   "source": [
    "%run test_ps4a.py"
   ]
  },
  {
   "cell_type": "code",
   "execution_count": 15,
   "metadata": {
    "collapsed": true
   },
   "outputs": [],
   "source": [
    "def playHand(hand, wordList, n):\n",
    "    \"\"\"\n",
    "    Allows the user to play the given hand, as follows:\n",
    "\n",
    "    * The hand is displayed.\n",
    "    * The user may input a word or a single period (the string \".\") \n",
    "      to indicate they're done playing\n",
    "    * Invalid words are rejected, and a message is displayed asking\n",
    "      the user to choose another word until they enter a valid word or \".\"\n",
    "    * When a valid word is entered, it uses up letters from the hand.\n",
    "    * After every valid word: the score for that word is displayed,\n",
    "      the remaining letters in the hand are displayed, and the user\n",
    "      is asked to input another word.\n",
    "    * The sum of the word scores is displayed when the hand finishes.\n",
    "    * The hand finishes when there are no more unused letters or the user\n",
    "      inputs a \".\"\n",
    "\n",
    "      hand: dictionary (string -> int)\n",
    "      wordList: list of lowercase strings\n",
    "      n: integer (HAND_SIZE; i.e., hand size required for additional points)\n",
    "      \n",
    "    \"\"\"\n",
    "    handScore = 0\n",
    "    # Keep track of the total score\n",
    "    \n",
    "    # As long as there are still letters left in the hand:\n",
    "    while calculateHandlen(hand) > 0:\n",
    "        # Display the hand\n",
    "        print(\"Current Hand:\", end = \" \")\n",
    "        displayHand(hand)\n",
    "        # Ask user for input\n",
    "        word = input('Enter word, or a \".\" to indicate that you are finnished: ')\n",
    "        # If the input is a single period:\n",
    "        if word == '.':\n",
    "            # End the game (break out of the loop)\n",
    "            print(\"Goodbye!\", end = ' ')\n",
    "            break\n",
    "            \n",
    "        # Otherwise (the input is not a single period):\n",
    "        else:\n",
    "            # If the word is not valid:\n",
    "            if not isValidWord(word, hand, wordList):\n",
    "                # Reject invalid word (print a message followed by a blank line)\n",
    "                print('Invalid word, please try again.')\n",
    "                print()\n",
    "                continue\n",
    "            # Otherwise (the word is valid):\n",
    "            else:\n",
    "                # Tell the user how many points the word earned, and the updated total score, in one line followed by a blank line\n",
    "                wordScore = getWordScore(word, n)\n",
    "                handScore += wordScore\n",
    "                print('\"'+ word +'\" ' + 'earned ' + str(wordScore) + \" points. Total: \" + str(handScore) + \" points.\" )\n",
    "                print()\n",
    "                # Update the hand \n",
    "                hand = updateHand(hand, word)\n",
    "\n",
    "    # Game is over (user entered a '.' or ran out of letters), so tell user the total score\n",
    "    if calculateHandlen(hand) == 0:\n",
    "        print('Run out of letters.', end = ' ')\n",
    "    print ('Total score: ' + str(handScore) + ' points.')\n",
    "    return handScore\n"
   ]
  },
  {
   "cell_type": "code",
   "execution_count": 7,
   "metadata": {},
   "outputs": [
    {
     "name": "stdout",
     "output_type": "stream",
     "text": [
      "Loading word list from file...\n",
      "   83667 words loaded.\n",
      "Current Hand: h i c z m m a \n",
      "Enter word, or a \".\" to indicate that you are finnished: him\n",
      "\"him\" earned 24 points.  Total: 24 points.\n",
      "\n",
      "Current Hand: c z m a \n",
      "Enter word, or a \".\" to indicate that you are finnished: cam\n",
      "\"cam\" earned 21 points.  Total: 45 points.\n",
      "\n",
      "Current Hand: z \n",
      "Enter word, or a \".\" to indicate that you are finnished: .\n",
      "Total score: 45 points.\n"
     ]
    },
    {
     "data": {
      "text/plain": [
       "45"
      ]
     },
     "execution_count": 7,
     "metadata": {},
     "output_type": "execute_result"
    }
   ],
   "source": [
    "wordList = loadWords()\n",
    "playHand({'h':1, 'i':1, 'c':1, 'z':1, 'm':2, 'a':1}, wordList, 7)\n"
   ]
  },
  {
   "cell_type": "code",
   "execution_count": 11,
   "metadata": {},
   "outputs": [
    {
     "name": "stdout",
     "output_type": "stream",
     "text": [
      "Current Hand: h i c z m m a \n",
      "Enter word, or a \".\" to indicate that you are finnished: lost\n",
      "Invalid word, please try again.\n",
      "Current Hand: h i c z m m a \n",
      "Enter word, or a \".\" to indicate that you are finnished: chain\n",
      "Invalid word, please try again.\n",
      "Current Hand: h i c z m m a \n",
      "Enter word, or a \".\" to indicate that you are finnished: .\n",
      "Goodbye! Total score: 0 points.\n"
     ]
    },
    {
     "data": {
      "text/plain": [
       "0"
      ]
     },
     "execution_count": 11,
     "metadata": {},
     "output_type": "execute_result"
    }
   ],
   "source": [
    "playHand({'h':1, 'i':1, 'c':1, 'z':1, 'm':2, 'a':1}, wordList, 7)"
   ]
  },
  {
   "cell_type": "code",
   "execution_count": 16,
   "metadata": {},
   "outputs": [
    {
     "name": "stdout",
     "output_type": "stream",
     "text": [
      "Current Hand: w s t t a o f \n",
      "Enter word, or a \".\" to indicate that you are finnished: tow\n",
      "\"tow\" earned 18 points.  Total: 18 points.\n",
      "\n",
      "Current Hand: s t a f \n",
      "Enter word, or a \".\" to indicate that you are finnished: tasf\n",
      "Invalid word, please try again.\n",
      "\n",
      "Current Hand: s t a f \n",
      "Enter word, or a \".\" to indicate that you are finnished: fast\n",
      "\"fast\" earned 28 points.  Total: 46 points.\n",
      "\n",
      "Run out of letters. Total score: 46 points.\n"
     ]
    },
    {
     "data": {
      "text/plain": [
       "46"
      ]
     },
     "execution_count": 16,
     "metadata": {},
     "output_type": "execute_result"
    }
   ],
   "source": [
    "playHand({'w':1, 's':1, 't':2, 'a':1, 'o':1, 'f':1}, wordList, 7)"
   ]
  },
  {
   "cell_type": "code",
   "execution_count": null,
   "metadata": {
    "collapsed": true
   },
   "outputs": [],
   "source": []
  }
 ],
 "metadata": {
  "kernelspec": {
   "display_name": "Python 3",
   "language": "python",
   "name": "python3"
  },
  "language_info": {
   "codemirror_mode": {
    "name": "ipython",
    "version": 3
   },
   "file_extension": ".py",
   "mimetype": "text/x-python",
   "name": "python",
   "nbconvert_exporter": "python",
   "pygments_lexer": "ipython3",
   "version": "3.6.1"
  }
 },
 "nbformat": 4,
 "nbformat_minor": 2
}
